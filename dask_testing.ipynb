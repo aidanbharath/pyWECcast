{
 "cells": [
  {
   "cell_type": "code",
   "execution_count": 21,
   "metadata": {},
   "outputs": [
    {
     "name": "stderr",
     "output_type": "stream",
     "text": [
      "distributed.comm.tcp - WARNING - Could not set timeout on TCP stream: [Errno 92] Protocol not available\n",
      "distributed.comm.tcp - WARNING - Could not set timeout on TCP stream: [Errno 92] Protocol not available\n",
      "distributed.comm.tcp - WARNING - Could not set timeout on TCP stream: [Errno 92] Protocol not available\n",
      "distributed.comm.tcp - WARNING - Could not set timeout on TCP stream: [Errno 92] Protocol not available\n",
      "distributed.comm.tcp - WARNING - Could not set timeout on TCP stream: [Errno 92] Protocol not available\n",
      "distributed.comm.tcp - WARNING - Could not set timeout on TCP stream: [Errno 92] Protocol not available\n",
      "distributed.comm.tcp - WARNING - Could not set timeout on TCP stream: [Errno 92] Protocol not available\n",
      "distributed.comm.tcp - WARNING - Could not set timeout on TCP stream: [Errno 92] Protocol not available\n",
      "distributed.comm.tcp - WARNING - Could not set timeout on TCP stream: [Errno 92] Protocol not available\n",
      "distributed.comm.tcp - WARNING - Could not set timeout on TCP stream: [Errno 92] Protocol not available\n",
      "distributed.comm.tcp - WARNING - Could not set timeout on TCP stream: [Errno 92] Protocol not available\n",
      "distributed.comm.tcp - WARNING - Could not set timeout on TCP stream: [Errno 92] Protocol not available\n",
      "distributed.comm.tcp - WARNING - Could not set timeout on TCP stream: [Errno 92] Protocol not available\n",
      "distributed.comm.tcp - WARNING - Could not set timeout on TCP stream: [Errno 92] Protocol not available\n"
     ]
    }
   ],
   "source": [
    "import dask.array as da\n",
    "import dask.dataframe as dd\n",
    "import h5py as h5\n",
    "\n",
    "from dask.distributed import Client\n",
    "client = Client();"
   ]
  },
  {
   "cell_type": "code",
   "execution_count": 22,
   "metadata": {},
   "outputs": [
    {
     "data": {
      "text/html": [
       "<table style=\"border: 2px solid white;\">\n",
       "<tr>\n",
       "<td style=\"vertical-align: top; border: 0px solid white\">\n",
       "<h3 style=\"text-align: left;\">Client</h3>\n",
       "<ul style=\"text-align: left; list-style: none; margin: 0; padding: 0;\">\n",
       "  <li><b>Scheduler: </b>tcp://127.0.0.1:62296</li>\n",
       "  <li><b>Dashboard: </b><a href='http://127.0.0.1:8787/status' target='_blank'>http://127.0.0.1:8787/status</a>\n",
       "</ul>\n",
       "</td>\n",
       "<td style=\"vertical-align: top; border: 0px solid white\">\n",
       "<h3 style=\"text-align: left;\">Cluster</h3>\n",
       "<ul style=\"text-align: left; list-style:none; margin: 0; padding: 0;\">\n",
       "  <li><b>Workers: </b>4</li>\n",
       "  <li><b>Cores: </b>8</li>\n",
       "  <li><b>Memory: </b>16.97 GB</li>\n",
       "</ul>\n",
       "</td>\n",
       "</tr>\n",
       "</table>"
      ],
      "text/plain": [
       "<Client: 'tcp://127.0.0.1:62296' processes=4 threads=8, memory=16.97 GB>"
      ]
     },
     "execution_count": 22,
     "metadata": {},
     "output_type": "execute_result"
    }
   ],
   "source": [
    "client"
   ]
  },
  {
   "cell_type": "code",
   "execution_count": 23,
   "metadata": {},
   "outputs": [],
   "source": [
    "File = f'ak-wc-4m.h5'\n",
    "db = h5.File(File,'r')"
   ]
  },
  {
   "cell_type": "code",
   "execution_count": 24,
   "metadata": {},
   "outputs": [],
   "source": [
    "ak = db[f'ak_4m']\n",
    "keys = list(ak.keys())\n",
    "\n",
    "time,variable = f'valid_time', f'swh'"
   ]
  },
  {
   "cell_type": "code",
   "execution_count": 11,
   "metadata": {},
   "outputs": [],
   "source": [
    "a = da.from_array(ak[keys[0]][variable],chunks=(141,50,50))"
   ]
  },
  {
   "cell_type": "code",
   "execution_count": 12,
   "metadata": {},
   "outputs": [
    {
     "data": {
      "text/html": [
       "<table>\n",
       "<tr>\n",
       "<td>\n",
       "<table>\n",
       "  <thead>\n",
       "    <tr><td> </td><th> Array </th><th> Chunk </th></tr>\n",
       "  </thead>\n",
       "  <tbody>\n",
       "    <tr><th> Bytes </th><td> 120.85 MB </td> <td> 1.41 MB </td></tr>\n",
       "    <tr><th> Shape </th><td> (141, 391, 548) </td> <td> (141, 50, 50) </td></tr>\n",
       "    <tr><th> Count </th><td> 89 Tasks </td><td> 88 Chunks </td></tr>\n",
       "    <tr><th> Type </th><td> float32 </td><td> numpy.ndarray </td></tr>\n",
       "  </tbody>\n",
       "</table>\n",
       "</td>\n",
       "<td>\n",
       "<svg width=\"205\" height=\"160\" style=\"stroke:rgb(0,0,0);stroke-width:1\" >\n",
       "\n",
       "  <!-- Horizontal lines -->\n",
       "  <line x1=\"10\" y1=\"0\" x2=\"35\" y2=\"25\" style=\"stroke-width:2\" />\n",
       "  <line x1=\"10\" y1=\"10\" x2=\"35\" y2=\"36\" />\n",
       "  <line x1=\"10\" y1=\"21\" x2=\"35\" y2=\"47\" />\n",
       "  <line x1=\"10\" y1=\"32\" x2=\"35\" y2=\"58\" />\n",
       "  <line x1=\"10\" y1=\"43\" x2=\"35\" y2=\"69\" />\n",
       "  <line x1=\"10\" y1=\"54\" x2=\"35\" y2=\"80\" />\n",
       "  <line x1=\"10\" y1=\"65\" x2=\"35\" y2=\"90\" />\n",
       "  <line x1=\"10\" y1=\"76\" x2=\"35\" y2=\"101\" />\n",
       "  <line x1=\"10\" y1=\"85\" x2=\"35\" y2=\"110\" style=\"stroke-width:2\" />\n",
       "\n",
       "  <!-- Vertical lines -->\n",
       "  <line x1=\"10\" y1=\"0\" x2=\"10\" y2=\"85\" style=\"stroke-width:2\" />\n",
       "  <line x1=\"35\" y1=\"25\" x2=\"35\" y2=\"110\" style=\"stroke-width:2\" />\n",
       "\n",
       "  <!-- Colored Rectangle -->\n",
       "  <polygon points=\"10.000000,0.000000 35.297377,25.297377 35.297377,110.917815 10.000000,85.620438\" style=\"fill:#ECB172A0;stroke-width:0\"/>\n",
       "\n",
       "  <!-- Horizontal lines -->\n",
       "  <line x1=\"10\" y1=\"0\" x2=\"130\" y2=\"0\" style=\"stroke-width:2\" />\n",
       "  <line x1=\"35\" y1=\"25\" x2=\"155\" y2=\"25\" style=\"stroke-width:2\" />\n",
       "\n",
       "  <!-- Vertical lines -->\n",
       "  <line x1=\"10\" y1=\"0\" x2=\"35\" y2=\"25\" style=\"stroke-width:2\" />\n",
       "  <line x1=\"20\" y1=\"0\" x2=\"46\" y2=\"25\" />\n",
       "  <line x1=\"31\" y1=\"0\" x2=\"57\" y2=\"25\" />\n",
       "  <line x1=\"42\" y1=\"0\" x2=\"68\" y2=\"25\" />\n",
       "  <line x1=\"53\" y1=\"0\" x2=\"79\" y2=\"25\" />\n",
       "  <line x1=\"64\" y1=\"0\" x2=\"90\" y2=\"25\" />\n",
       "  <line x1=\"75\" y1=\"0\" x2=\"100\" y2=\"25\" />\n",
       "  <line x1=\"86\" y1=\"0\" x2=\"111\" y2=\"25\" />\n",
       "  <line x1=\"97\" y1=\"0\" x2=\"122\" y2=\"25\" />\n",
       "  <line x1=\"108\" y1=\"0\" x2=\"133\" y2=\"25\" />\n",
       "  <line x1=\"119\" y1=\"0\" x2=\"144\" y2=\"25\" />\n",
       "  <line x1=\"130\" y1=\"0\" x2=\"155\" y2=\"25\" style=\"stroke-width:2\" />\n",
       "\n",
       "  <!-- Colored Rectangle -->\n",
       "  <polygon points=\"10.000000,0.000000 130.000000,0.000000 155.297377,25.297377 35.297377,25.297377\" style=\"fill:#ECB172A0;stroke-width:0\"/>\n",
       "\n",
       "  <!-- Horizontal lines -->\n",
       "  <line x1=\"35\" y1=\"25\" x2=\"155\" y2=\"25\" style=\"stroke-width:2\" />\n",
       "  <line x1=\"35\" y1=\"36\" x2=\"155\" y2=\"36\" />\n",
       "  <line x1=\"35\" y1=\"47\" x2=\"155\" y2=\"47\" />\n",
       "  <line x1=\"35\" y1=\"58\" x2=\"155\" y2=\"58\" />\n",
       "  <line x1=\"35\" y1=\"69\" x2=\"155\" y2=\"69\" />\n",
       "  <line x1=\"35\" y1=\"80\" x2=\"155\" y2=\"80\" />\n",
       "  <line x1=\"35\" y1=\"90\" x2=\"155\" y2=\"90\" />\n",
       "  <line x1=\"35\" y1=\"101\" x2=\"155\" y2=\"101\" />\n",
       "  <line x1=\"35\" y1=\"110\" x2=\"155\" y2=\"110\" style=\"stroke-width:2\" />\n",
       "\n",
       "  <!-- Vertical lines -->\n",
       "  <line x1=\"35\" y1=\"25\" x2=\"35\" y2=\"110\" style=\"stroke-width:2\" />\n",
       "  <line x1=\"46\" y1=\"25\" x2=\"46\" y2=\"110\" />\n",
       "  <line x1=\"57\" y1=\"25\" x2=\"57\" y2=\"110\" />\n",
       "  <line x1=\"68\" y1=\"25\" x2=\"68\" y2=\"110\" />\n",
       "  <line x1=\"79\" y1=\"25\" x2=\"79\" y2=\"110\" />\n",
       "  <line x1=\"90\" y1=\"25\" x2=\"90\" y2=\"110\" />\n",
       "  <line x1=\"100\" y1=\"25\" x2=\"100\" y2=\"110\" />\n",
       "  <line x1=\"111\" y1=\"25\" x2=\"111\" y2=\"110\" />\n",
       "  <line x1=\"122\" y1=\"25\" x2=\"122\" y2=\"110\" />\n",
       "  <line x1=\"133\" y1=\"25\" x2=\"133\" y2=\"110\" />\n",
       "  <line x1=\"144\" y1=\"25\" x2=\"144\" y2=\"110\" />\n",
       "  <line x1=\"155\" y1=\"25\" x2=\"155\" y2=\"110\" style=\"stroke-width:2\" />\n",
       "\n",
       "  <!-- Colored Rectangle -->\n",
       "  <polygon points=\"35.297377,25.297377 155.297377,25.297377 155.297377,110.917815 35.297377,110.917815\" style=\"fill:#ECB172A0;stroke-width:0\"/>\n",
       "\n",
       "  <!-- Text -->\n",
       "  <text x=\"95.297377\" y=\"130.917815\" font-size=\"1.0rem\" font-weight=\"100\" text-anchor=\"middle\" >548</text>\n",
       "  <text x=\"175.297377\" y=\"68.107596\" font-size=\"1.0rem\" font-weight=\"100\" text-anchor=\"middle\" transform=\"rotate(-90,175.297377,68.107596)\">391</text>\n",
       "  <text x=\"12.648689\" y=\"118.269127\" font-size=\"1.0rem\" font-weight=\"100\" text-anchor=\"middle\" transform=\"rotate(45,12.648689,118.269127)\">141</text>\n",
       "</svg>\n",
       "</td>\n",
       "</tr>\n",
       "</table>"
      ],
      "text/plain": [
       "dask.array<array, shape=(141, 391, 548), dtype=float32, chunksize=(141, 50, 50), chunktype=numpy.ndarray>"
      ]
     },
     "execution_count": 12,
     "metadata": {},
     "output_type": "execute_result"
    }
   ],
   "source": [
    "a"
   ]
  },
  {
   "cell_type": "code",
   "execution_count": null,
   "metadata": {},
   "outputs": [],
   "source": []
  },
  {
   "cell_type": "code",
   "execution_count": null,
   "metadata": {},
   "outputs": [],
   "source": []
  }
 ],
 "metadata": {
  "kernelspec": {
   "display_name": "Python 3",
   "language": "python",
   "name": "python3"
  },
  "language_info": {
   "codemirror_mode": {
    "name": "ipython",
    "version": 3
   },
   "file_extension": ".py",
   "mimetype": "text/x-python",
   "name": "python",
   "nbconvert_exporter": "python",
   "pygments_lexer": "ipython3",
   "version": "3.6.9"
  }
 },
 "nbformat": 4,
 "nbformat_minor": 4
}
