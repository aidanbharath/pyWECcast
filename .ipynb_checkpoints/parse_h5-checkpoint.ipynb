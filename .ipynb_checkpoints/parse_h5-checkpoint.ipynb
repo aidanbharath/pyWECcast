{
 "cells": [
  {
   "cell_type": "code",
   "execution_count": 4,
   "metadata": {},
   "outputs": [],
   "source": [
    "import h5py as h5\n",
    "import pandas as pd\n",
    "\n",
    "from numpy import array as ar\n",
    "from tqdm import tqdm"
   ]
  },
  {
   "cell_type": "code",
   "execution_count": 5,
   "metadata": {},
   "outputs": [],
   "source": [
    "a = h5.File('fairweather_power_forecast.h5','r')"
   ]
  },
  {
   "cell_type": "code",
   "execution_count": 6,
   "metadata": {},
   "outputs": [
    {
     "ename": "SyntaxError",
     "evalue": "invalid syntax (<ipython-input-6-13d5afe77fcb>, line 12)",
     "output_type": "error",
     "traceback": [
      "\u001b[0;36m  File \u001b[0;32m\"<ipython-input-6-13d5afe77fcb>\"\u001b[0;36m, line \u001b[0;32m12\u001b[0m\n\u001b[0;31m    '''\u001b[0m\n\u001b[0m       \n^\u001b[0m\n\u001b[0;31mSyntaxError\u001b[0m\u001b[0;31m:\u001b[0m invalid syntax\n"
     ]
    }
   ],
   "source": [
    "import re\n",
    "m,sf = 'ak_4m','fairweather_grounds_phase_data'\n",
    "for i in tqdm(a[m]):\n",
    "    print(a[m][i].keys()\n",
    "'''\n",
    "p = a[m][i]['powerseries']\n",
    "times = a[m][i]['time'][:]\n",
    "t = [t.decode() for t in times]\n",
    "df = pd.DataFrame(p,index=pd.to_datetime(t),columns=['Power (W)'])\n",
    "ts = re.sub(' ','-',re.sub('-','',re.sub(':','',f'{df.index[0]}')))[:-4]\n",
    "df.to_csv(f'{sf}/powerseries_forecast_{ts}.csv')\n",
    "'''"
   ]
  },
  {
   "cell_type": "code",
   "execution_count": 103,
   "metadata": {},
   "outputs": [],
   "source": [
    "b = h5.File('fairweather_grounds.h5','r')"
   ]
  },
  {
   "cell_type": "code",
   "execution_count": 104,
   "metadata": {},
   "outputs": [
    {
     "name": "stderr",
     "output_type": "stream",
     "text": [
      "\n",
      "  0%|          | 0/32 [00:00<?, ?it/s]\u001b[A\n",
      " 12%|█▎        | 4/32 [00:00<00:00, 37.98it/s]\u001b[A\n",
      " 25%|██▌       | 8/32 [00:00<00:00, 37.65it/s]\u001b[A\n",
      " 38%|███▊      | 12/32 [00:00<00:00, 36.31it/s]\u001b[A\n",
      " 50%|█████     | 16/32 [00:00<00:00, 34.96it/s]\u001b[A\n",
      " 62%|██████▎   | 20/32 [00:00<00:00, 33.41it/s]\u001b[A\n",
      " 75%|███████▌  | 24/32 [00:00<00:00, 33.16it/s]\u001b[A\n",
      " 88%|████████▊ | 28/32 [00:00<00:00, 32.98it/s]\u001b[A\n",
      "100%|██████████| 32/32 [00:01<00:00, 31.30it/s]\u001b[A\n"
     ]
    }
   ],
   "source": [
    "for i in tqdm(b[m]):\n",
    "    swh = b[m][i]['swh'][:]\n",
    "    perpw = b[m][i]['perpw'][:]\n",
    "    times = [int(t.decode()[1:]) for t in b[m][i]['valid_time'][:]]\n",
    "    t = pd.DatetimeIndex([pd.to_datetime(i)+pd.to_timedelta(t,unit='h')\n",
    "                            for t in times])\n",
    "    df = pd.DataFrame(ar([swh,perpw]).T,index=pd.to_datetime(t),\n",
    "                      columns=['H_m0 (m)', 'T_p (s)'])\n",
    "    ts = re.sub(' ','-',re.sub('-','',re.sub(':','',f'{df.index[0]}')))[:-4]\n",
    "    df.to_csv(f'{sf}/seaState_forescast_{ts}.csv')"
   ]
  },
  {
   "cell_type": "code",
   "execution_count": 89,
   "metadata": {},
   "outputs": [],
   "source": [
    "c = h5.File('buoy_downloads.h5','r')"
   ]
  },
  {
   "cell_type": "code",
   "execution_count": 91,
   "metadata": {},
   "outputs": [],
   "source": [
    "fg = c['46083']\n",
    "\n",
    "df = pd.DataFrame(ar([fg['WVHT'][:],fg['SwH'][:],fg['WWH'][:],\n",
    "                     fg['SwP'][:],fg['WWP'][:]]).T,\n",
    "                  columns=['WVHT','SwH','WWH','SwP','WWP'],\n",
    "                 index=fg['time_index'])\n",
    "\n",
    "def calc_DWP(buoy):\n",
    "    he = np.float32(buoy.loc[:,'WVHT'].values)\n",
    "    swell = np.float32(buoy.loc[:,'SwH'].values)\n",
    "    windw = np.float32(buoy.loc[:,'WWH'].values)\n",
    "    DWP = []\n",
    "    for i,j in enumerate(swell>=windw):\n",
    "        if j:\n",
    "            DWP.append(np.float32(buoy.iloc[i].loc['SwP']))\n",
    "        elif not j:\n",
    "            DWP.append(np.float32(buoy.iloc[i].loc['WWP']))\n",
    "    \n",
    "    return pd.DataFrame(DWP,\n",
    "                        index=pd.to_datetime([b.decode() for b in buoy.index]),\n",
    "                        columns=['T_p (s)'])\n",
    "\n",
    "dwp = calc_DWP(df)\n",
    "dwp['H_m0'] = fg['SwH']\n",
    "dwp.to_csv(f'{sf}/fairweather_grounds_buoy_seaState_forecast.csv')\n"
   ]
  },
  {
   "cell_type": "code",
   "execution_count": null,
   "metadata": {},
   "outputs": [],
   "source": []
  }
 ],
 "metadata": {
  "kernelspec": {
   "display_name": "Python 3",
   "language": "python",
   "name": "python3"
  },
  "language_info": {
   "codemirror_mode": {
    "name": "ipython",
    "version": 3
   },
   "file_extension": ".py",
   "mimetype": "text/x-python",
   "name": "python",
   "nbconvert_exporter": "python",
   "pygments_lexer": "ipython3",
   "version": "3.6.9"
  }
 },
 "nbformat": 4,
 "nbformat_minor": 4
}
