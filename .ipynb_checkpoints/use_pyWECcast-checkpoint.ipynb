{
 "cells": [
  {
   "cell_type": "markdown",
   "metadata": {},
   "source": [
    "# pyWECcast\n",
    "## WEC Powerseries Generator"
   ]
  },
  {
   "cell_type": "code",
   "execution_count": 1,
   "metadata": {},
   "outputs": [],
   "source": [
    "import pyWECcast as wc"
   ]
  },
  {
   "cell_type": "code",
   "execution_count": 2,
   "metadata": {},
   "outputs": [],
   "source": [
    "buoyDB = f'buoy_downloads.h5'\n",
    "wecSim = f'../data/WECSim_dataset_RM3_scale_0-1873.hdf5'\n",
    "resultDB = 'stonewall_bank_buoy_powerseries.h5'"
   ]
  },
  {
   "cell_type": "code",
   "execution_count": null,
   "metadata": {},
   "outputs": [],
   "source": [
    "buoys = wc.db.Buoy(buoyDB)"
   ]
  },
  {
   "cell_type": "code",
   "execution_count": 3,
   "metadata": {},
   "outputs": [
    {
     "name": "stderr",
     "output_type": "stream",
     "text": [
      "100%|██████████| 1/1 [00:00<00:00,  2.96it/s]\n",
      "100%|██████████| 1/1 [00:00<00:00,  1.61it/s]\n",
      "65641it [03:46, 290.15it/s]\n"
     ]
    }
   ],
   "source": [
    "wc.power.buoy_powerseries(buoyDB,wecSim,buoys=['46050'],resultDB=resultDB)\n"
   ]
  },
  {
   "cell_type": "code",
   "execution_count": 4,
   "metadata": {},
   "outputs": [
    {
     "ename": "NameError",
     "evalue": "name 'buoyFile' is not defined",
     "output_type": "error",
     "traceback": [
      "\u001b[0;31m---------------------------------------------------------------------------\u001b[0m",
      "\u001b[0;31mNameError\u001b[0m                                 Traceback (most recent call last)",
      "\u001b[0;32m<ipython-input-4-a5a6fd174b65>\u001b[0m in \u001b[0;36m<module>\u001b[0;34m\u001b[0m\n\u001b[0;32m----> 1\u001b[0;31m \u001b[0mbuoys\u001b[0m \u001b[0;34m=\u001b[0m \u001b[0mwc\u001b[0m\u001b[0;34m.\u001b[0m\u001b[0mbuoys\u001b[0m\u001b[0;34m.\u001b[0m\u001b[0mdownload\u001b[0m\u001b[0;34m(\u001b[0m\u001b[0mbuoyFile\u001b[0m\u001b[0;34m)\u001b[0m\u001b[0;34m\u001b[0m\u001b[0;34m\u001b[0m\u001b[0m\n\u001b[0m",
      "\u001b[0;31mNameError\u001b[0m: name 'buoyFile' is not defined"
     ]
    }
   ],
   "source": [
    "buoys = wc.buoys.download(buoyFile)"
   ]
  },
  {
   "cell_type": "markdown",
   "metadata": {},
   "source": []
  },
  {
   "cell_type": "code",
   "execution_count": 4,
   "metadata": {},
   "outputs": [],
   "source": [
    "modelRegions = [f'wc_4m',f'ak_4m']\n",
    "locationFile = f'stonewall_bank.h5'\n",
    "resultDB = f'stonewall_powerseries_forecast.h5'\n",
    "db = f'./ak-wc-4m.h5'\n",
    "wecSim = f'../data/WECSim_dataset_RM3_scale_0-1873.hdf5'\n",
    "times = [f'2020-03-13 00:00:00',f'2020-03-21 19:00:00']\n",
    "lon, lat = 360-124.515, 44.667"
   ]
  },
  {
   "cell_type": "code",
   "execution_count": null,
   "metadata": {},
   "outputs": [],
   "source": [
    "models = wc.models.download(modelRegions)"
   ]
  },
  {
   "cell_type": "markdown",
   "metadata": {},
   "source": []
  },
  {
   "cell_type": "code",
   "execution_count": 5,
   "metadata": {},
   "outputs": [],
   "source": [
    "ww = wc.WW3(db,lon,lat,model_id=modelRegions[0])\n",
    "ww.get_location()\n",
    "ww.get_times(times[0],times[1])\n",
    "ww.reduce_db(locationFile)"
   ]
  },
  {
   "cell_type": "markdown",
   "metadata": {},
   "source": []
  },
  {
   "cell_type": "code",
   "execution_count": 6,
   "metadata": {},
   "outputs": [
    {
     "name": "stderr",
     "output_type": "stream",
     "text": [
      "100%|██████████| 37/37 [00:00<00:00, 1531.22it/s]"
     ]
    },
    {
     "name": "stdout",
     "output_type": "stream",
     "text": [
      "\n",
      " ---------- Calculating FFTs --------\n"
     ]
    },
    {
     "name": "stderr",
     "output_type": "stream",
     "text": [
      "\n",
      "0it [00:00, ?it/s]"
     ]
    },
    {
     "name": "stdout",
     "output_type": "stream",
     "text": [
      "\n",
      "Calculating wc_4m/2020-03-13 00:00:00\n"
     ]
    },
    {
     "name": "stderr",
     "output_type": "stream",
     "text": [
      "64801it [02:37, 411.92it/s]\n",
      "36it [00:00, 349.94it/s]"
     ]
    },
    {
     "name": "stdout",
     "output_type": "stream",
     "text": [
      "\n",
      "Calculating wc_4m/2020-03-13 06:00:00\n"
     ]
    },
    {
     "name": "stderr",
     "output_type": "stream",
     "text": [
      "64801it [02:36, 413.66it/s]\n",
      "39it [00:00, 383.63it/s]"
     ]
    },
    {
     "name": "stdout",
     "output_type": "stream",
     "text": [
      "\n",
      "Calculating wc_4m/2020-03-13 12:00:00\n"
     ]
    },
    {
     "name": "stderr",
     "output_type": "stream",
     "text": [
      "64801it [02:38, 408.00it/s]\n",
      "85it [00:00, 411.11it/s]"
     ]
    },
    {
     "name": "stdout",
     "output_type": "stream",
     "text": [
      "\n",
      "Calculating wc_4m/2020-03-13 18:00:00\n"
     ]
    },
    {
     "name": "stderr",
     "output_type": "stream",
     "text": [
      "64801it [02:37, 411.37it/s]\n",
      "35it [00:00, 348.60it/s]"
     ]
    },
    {
     "name": "stdout",
     "output_type": "stream",
     "text": [
      "\n",
      "Calculating wc_4m/2020-03-14 00:00:00\n"
     ]
    },
    {
     "name": "stderr",
     "output_type": "stream",
     "text": [
      "64801it [02:38, 407.89it/s]\n",
      "73it [00:00, 361.32it/s]"
     ]
    },
    {
     "name": "stdout",
     "output_type": "stream",
     "text": [
      "\n",
      "Calculating wc_4m/2020-03-14 06:00:00\n"
     ]
    },
    {
     "name": "stderr",
     "output_type": "stream",
     "text": [
      "64801it [02:39, 407.54it/s]\n",
      "42it [00:00, 416.50it/s]"
     ]
    },
    {
     "name": "stdout",
     "output_type": "stream",
     "text": [
      "\n",
      "Calculating wc_4m/2020-03-14 12:00:00\n"
     ]
    },
    {
     "name": "stderr",
     "output_type": "stream",
     "text": [
      "64801it [02:39, 405.16it/s]\n",
      "18it [00:00, 176.95it/s]"
     ]
    },
    {
     "name": "stdout",
     "output_type": "stream",
     "text": [
      "\n",
      "Calculating wc_4m/2020-03-14 18:00:00\n"
     ]
    },
    {
     "name": "stderr",
     "output_type": "stream",
     "text": [
      "64801it [02:40, 404.44it/s]\n",
      "80it [00:00, 397.58it/s]"
     ]
    },
    {
     "name": "stdout",
     "output_type": "stream",
     "text": [
      "\n",
      "Calculating wc_4m/2020-03-15 00:00:00\n"
     ]
    },
    {
     "name": "stderr",
     "output_type": "stream",
     "text": [
      "64801it [02:43, 396.86it/s]\n",
      "79it [00:00, 384.21it/s]"
     ]
    },
    {
     "name": "stdout",
     "output_type": "stream",
     "text": [
      "\n",
      "Calculating wc_4m/2020-03-15 06:00:00\n"
     ]
    },
    {
     "name": "stderr",
     "output_type": "stream",
     "text": [
      "64801it [02:42, 397.94it/s]\n",
      "85it [00:00, 425.27it/s]"
     ]
    },
    {
     "name": "stdout",
     "output_type": "stream",
     "text": [
      "\n",
      "Calculating wc_4m/2020-03-15 12:00:00\n"
     ]
    },
    {
     "name": "stderr",
     "output_type": "stream",
     "text": [
      "64801it [02:52, 374.64it/s]\n",
      "76it [00:00, 366.83it/s]"
     ]
    },
    {
     "name": "stdout",
     "output_type": "stream",
     "text": [
      "\n",
      "Calculating wc_4m/2020-03-15 18:00:00\n"
     ]
    },
    {
     "name": "stderr",
     "output_type": "stream",
     "text": [
      "64801it [02:51, 378.07it/s]\n",
      "77it [00:00, 379.38it/s]"
     ]
    },
    {
     "name": "stdout",
     "output_type": "stream",
     "text": [
      "\n",
      "Calculating wc_4m/2020-03-16 00:00:00\n"
     ]
    },
    {
     "name": "stderr",
     "output_type": "stream",
     "text": [
      "64801it [02:56, 366.39it/s]\n",
      "78it [00:00, 390.80it/s]"
     ]
    },
    {
     "name": "stdout",
     "output_type": "stream",
     "text": [
      "\n",
      "Calculating wc_4m/2020-03-16 06:00:00\n"
     ]
    },
    {
     "name": "stderr",
     "output_type": "stream",
     "text": [
      "64801it [02:56, 367.32it/s]\n",
      "52it [00:00, 179.29it/s]"
     ]
    },
    {
     "name": "stdout",
     "output_type": "stream",
     "text": [
      "\n",
      "Calculating wc_4m/2020-03-16 12:00:00\n"
     ]
    },
    {
     "name": "stderr",
     "output_type": "stream",
     "text": [
      "64801it [02:55, 368.80it/s]\n",
      "72it [00:00, 345.56it/s]"
     ]
    },
    {
     "name": "stdout",
     "output_type": "stream",
     "text": [
      "\n",
      "Calculating wc_4m/2020-03-16 18:00:00\n"
     ]
    },
    {
     "name": "stderr",
     "output_type": "stream",
     "text": [
      "64801it [02:55, 369.24it/s]\n",
      "77it [00:00, 372.79it/s]"
     ]
    },
    {
     "name": "stdout",
     "output_type": "stream",
     "text": [
      "\n",
      "Calculating wc_4m/2020-03-17 00:00:00\n"
     ]
    },
    {
     "name": "stderr",
     "output_type": "stream",
     "text": [
      "64801it [02:57, 364.20it/s]\n",
      "80it [00:00, 392.57it/s]"
     ]
    },
    {
     "name": "stdout",
     "output_type": "stream",
     "text": [
      "\n",
      "Calculating wc_4m/2020-03-17 06:00:00\n"
     ]
    },
    {
     "name": "stderr",
     "output_type": "stream",
     "text": [
      "64801it [02:57, 364.68it/s]\n",
      "40it [00:00, 398.06it/s]"
     ]
    },
    {
     "name": "stdout",
     "output_type": "stream",
     "text": [
      "\n",
      "Calculating wc_4m/2020-03-17 12:00:00\n"
     ]
    },
    {
     "name": "stderr",
     "output_type": "stream",
     "text": [
      "64801it [02:57, 365.79it/s]\n",
      "82it [00:00, 401.94it/s]"
     ]
    },
    {
     "name": "stdout",
     "output_type": "stream",
     "text": [
      "\n",
      "Calculating wc_4m/2020-03-17 18:00:00\n"
     ]
    },
    {
     "name": "stderr",
     "output_type": "stream",
     "text": [
      "64801it [02:51, 377.57it/s]\n",
      "71it [00:00, 342.13it/s]"
     ]
    },
    {
     "name": "stdout",
     "output_type": "stream",
     "text": [
      "\n",
      "Calculating wc_4m/2020-03-18 00:00:00\n"
     ]
    },
    {
     "name": "stderr",
     "output_type": "stream",
     "text": [
      "64801it [02:51, 377.31it/s]\n",
      "78it [00:00, 373.05it/s]"
     ]
    },
    {
     "name": "stdout",
     "output_type": "stream",
     "text": [
      "\n",
      "Calculating wc_4m/2020-03-18 06:00:00\n"
     ]
    },
    {
     "name": "stderr",
     "output_type": "stream",
     "text": [
      "64801it [02:54, 372.39it/s]\n",
      "69it [00:00, 332.04it/s]"
     ]
    },
    {
     "name": "stdout",
     "output_type": "stream",
     "text": [
      "\n",
      "Calculating wc_4m/2020-03-18 12:00:00\n"
     ]
    },
    {
     "name": "stderr",
     "output_type": "stream",
     "text": [
      "64801it [02:51, 376.90it/s]\n",
      "71it [00:00, 347.53it/s]"
     ]
    },
    {
     "name": "stdout",
     "output_type": "stream",
     "text": [
      "\n",
      "Calculating wc_4m/2020-03-18 18:00:00\n"
     ]
    },
    {
     "name": "stderr",
     "output_type": "stream",
     "text": [
      "64801it [02:49, 381.43it/s]\n",
      "42it [00:00, 412.58it/s]"
     ]
    },
    {
     "name": "stdout",
     "output_type": "stream",
     "text": [
      "\n",
      "Calculating wc_4m/2020-03-19 00:00:00\n"
     ]
    },
    {
     "name": "stderr",
     "output_type": "stream",
     "text": [
      "64801it [02:51, 378.26it/s]\n",
      "30it [00:00, 299.94it/s]"
     ]
    },
    {
     "name": "stdout",
     "output_type": "stream",
     "text": [
      "\n",
      "Calculating wc_4m/2020-03-19 06:00:00\n"
     ]
    },
    {
     "name": "stderr",
     "output_type": "stream",
     "text": [
      "64801it [02:52, 375.15it/s]\n",
      "41it [00:00, 403.13it/s]"
     ]
    },
    {
     "name": "stdout",
     "output_type": "stream",
     "text": [
      "\n",
      "Calculating wc_4m/2020-03-19 12:00:00\n"
     ]
    },
    {
     "name": "stderr",
     "output_type": "stream",
     "text": [
      "64801it [02:53, 372.73it/s]\n",
      "73it [00:00, 351.74it/s]"
     ]
    },
    {
     "name": "stdout",
     "output_type": "stream",
     "text": [
      "\n",
      "Calculating wc_4m/2020-03-19 18:00:00\n"
     ]
    },
    {
     "name": "stderr",
     "output_type": "stream",
     "text": [
      "64801it [02:58, 362.34it/s]\n",
      "68it [00:00, 326.10it/s]"
     ]
    },
    {
     "name": "stdout",
     "output_type": "stream",
     "text": [
      "\n",
      "Calculating wc_4m/2020-03-20 00:00:00\n"
     ]
    },
    {
     "name": "stderr",
     "output_type": "stream",
     "text": [
      "64801it [02:55, 370.10it/s]\n",
      "77it [00:00, 388.57it/s]"
     ]
    },
    {
     "name": "stdout",
     "output_type": "stream",
     "text": [
      "\n",
      "Calculating wc_4m/2020-03-20 06:00:00\n"
     ]
    },
    {
     "name": "stderr",
     "output_type": "stream",
     "text": [
      "64801it [02:55, 368.99it/s]\n",
      "40it [00:00, 394.26it/s]"
     ]
    },
    {
     "name": "stdout",
     "output_type": "stream",
     "text": [
      "\n",
      "Calculating wc_4m/2020-03-20 12:00:00\n"
     ]
    },
    {
     "name": "stderr",
     "output_type": "stream",
     "text": [
      "64801it [02:56, 368.01it/s]\n",
      "51it [00:00, 158.15it/s]"
     ]
    },
    {
     "name": "stdout",
     "output_type": "stream",
     "text": [
      "\n",
      "Calculating wc_4m/2020-03-20 18:00:00\n"
     ]
    },
    {
     "name": "stderr",
     "output_type": "stream",
     "text": [
      "64801it [02:55, 368.42it/s]\n"
     ]
    }
   ],
   "source": [
    "import os\n",
    "if os.path.isfile(f'./{resultDB}'):\n",
    "    os.remove(f'./{resultDB}')\n",
    "wc.power.forecast_powerseries(locationFile,wecSim,resultDB=resultDB)"
   ]
  },
  {
   "cell_type": "code",
   "execution_count": 7,
   "metadata": {},
   "outputs": [],
   "source": [
    "from h5py import File\n",
    "import pandas as pd\n",
    "import dask.dataframe as dd\n",
    "f = resultDB\n",
    "a = File(f,'r')\n",
    "b = a['ak_4m']\n",
    "c = b[list(b.keys())[0]]\n",
    "t = [T.decode('UTF-8') for T in c['time'][:]]\n",
    "x = dd.from_pandas(pd.DataFrame(c['powerseries'][:],index = pd.to_datetime(t),columns=['powerseries']),npartitions=10)\n",
    "\n"
   ]
  },
  {
   "cell_type": "code",
   "execution_count": 1,
   "metadata": {},
   "outputs": [
    {
     "name": "stdout",
     "output_type": "stream",
     "text": [
      "Using matplotlib backend: TkAgg\n"
     ]
    },
    {
     "data": {
      "text/plain": [
       "<matplotlib.axes._subplots.AxesSubplot at 0x7faac44b5ef0>"
      ]
     },
     "execution_count": 1,
     "metadata": {},
     "output_type": "execute_result"
    }
   ],
   "source": [
    "%matplotlib \n",
    "import dask.dataframe as dd\n",
    "s = dd.read_hdf('test.h5','/ak_4m/2020-03-20 00:00:00/*',mode='r+',chunksize=10000)\n",
    "S = s['powerseries'].compute()\n",
    "S.dropna(inplace=True)\n",
    "S.sort_index()\n",
    "S.plot()\n"
   ]
  },
  {
   "cell_type": "code",
   "execution_count": null,
   "metadata": {},
   "outputs": [],
   "source": [
    "import matplotlib.pyplot as plt\n",
    "import h5py as h5\n",
    "a = h5.File('fairweather_power_forecast.h5','r')\n",
    "b = a['ak_4m/2020-03-20 00:00:00']\n",
    "plt.plot([T.decode('UTF-8') for T in b['time'][:]],b['powerseries'][:])\n",
    "plt.show()"
   ]
  },
  {
   "cell_type": "code",
   "execution_count": null,
   "metadata": {},
   "outputs": [],
   "source": []
  }
 ],
 "metadata": {
  "kernelspec": {
   "display_name": "Python 3",
   "language": "python",
   "name": "python3"
  },
  "language_info": {
   "codemirror_mode": {
    "name": "ipython",
    "version": 3
   },
   "file_extension": ".py",
   "mimetype": "text/x-python",
   "name": "python",
   "nbconvert_exporter": "python",
   "pygments_lexer": "ipython3",
   "version": "3.6.9"
  }
 },
 "nbformat": 4,
 "nbformat_minor": 4
}
