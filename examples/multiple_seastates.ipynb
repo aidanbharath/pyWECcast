{
 "cells": [
  {
   "cell_type": "markdown",
   "metadata": {},
   "source": [
    "# pyWECcast - v0.2.2\n",
    "## WEC Powerseries Generator\n",
    "\n",
    "This version release represents a refactoring to reduce dependence on specific file configurations for powerseries generation.\n",
    "\n",
    "This is also the first implementation of numba accelerated functions with parallel functionality included\n",
    "\n",
    "The example shows what may be a basic example of combining multiple sea-states\n"
   ]
  },
  {
   "cell_type": "code",
   "execution_count": 1,
   "metadata": {},
   "outputs": [],
   "source": [
    "# General import directly from the local pyWECcast directory\n",
    "\n",
    "import sys\n",
    "sys.path.insert(1, '../')\n",
    "\n",
    "import src as wc"
   ]
  },
  {
   "cell_type": "code",
   "execution_count": 2,
   "metadata": {},
   "outputs": [],
   "source": [
    "baseDir = f'/mnt/c/Users/abharath/Documents/Projects/Grid_Value'\n",
    "dataDir = f'{baseDir}/data'\n",
    "buoyDB = f'{dataDir}/buoy_downloads.h5'\n",
    "resultDB = f'{dataDir}/testing_buoy_powerseries.h5'"
   ]
  },
  {
   "cell_type": "code",
   "execution_count": 3,
   "metadata": {},
   "outputs": [
    {
     "name": "stdout",
     "output_type": "stream",
     "text": [
      "[3.4 3.  3.2 ... 2.  1.6 1.7] [11.4 10.8 11.4 ... 10.8 10.8 11.4] [b'WSW' b'SW' b'WSW' ... b'NW' b'WNW' b'NW'] [0.6 0.4 0.4 ... 0.3 0.3 0.3] [4.3 3.4 3.6 ... 3.6 3.7 4. ] [b'S' b'S' b'SSW' ... b'WNW' b'NW' b'NW'] [b'2020-01-29 00:00:00' b'2020-01-29 01:00:00' b'2020-01-29 02:00:00' ...\n",
      " b'2020-03-13 19:00:00' b'2020-03-13 20:00:00' b'2020-03-13 21:00:00']\n"
     ]
    }
   ],
   "source": [
    "# In this example we will combined both wind and swell waves to estimate the WEC power output \n",
    "# based on a fully realised sea\n",
    "\n",
    "buoyNum = '46041'\n",
    "\n",
    "time_index, SwH, SwP, SwD = wc.extract_NOAA_buoy(buoyDB,buoyNum,'SwH', 'SwP', 'SwD')\n",
    "time_index, WWH, WWP, WWD = wc.extract_NOAA_buoy(buoyDB,buoyNum,'WWH', 'WWP', 'WWD')\n",
    "\n",
    "print(SwH, SwP, SwD, WWH, WWP, WWD, time_index)"
   ]
  },
  {
   "cell_type": "code",
   "execution_count": 4,
   "metadata": {},
   "outputs": [],
   "source": [
    "# for the particular NOAA buoy data files we have convenience functions in pyWECcast.ufuncs \n",
    "# to convert to a numerical format.\n",
    "\n",
    "timestamps = wc.ufuncs.binary_timestamp_convert(time_index)\n"
   ]
  },
  {
   "cell_type": "code",
   "execution_count": 5,
   "metadata": {},
   "outputs": [],
   "source": [
    "# we can manipulate the data to reduuce computation. Note array shapes must remain equal\n",
    "\n",
    "cut = 100\n",
    "timestamps, SwH, SwP, WWH, WWP = timestamps[:cut], SwH[:cut], SwP[:cut], WWH[:cut], WWP[:cut]"
   ]
  },
  {
   "cell_type": "code",
   "execution_count": 6,
   "metadata": {},
   "outputs": [],
   "source": [
    "# With a WECSim powerseries matrix, we can link the sea-state data to the WEC simulations \n",
    "# that are available. The closest match can be determined using a nearest neighbor method on \n",
    "# separate Hs, Tp and direction values or combinations of the groups\n",
    "\n",
    "# Here we create links for both the wind and swell waves\n",
    "\n",
    "wecSim = f'{dataDir}/WECSim_dataset_RM3_scale_0-1873.hdf5'\n",
    "\n",
    "swell, measured = wc.link_sea_states(wecSim,SwH,SwP)\n",
    "wind, measured = wc.link_sea_states(wecSim,WWH,WWP)\n"
   ]
  },
  {
   "cell_type": "code",
   "execution_count": 7,
   "metadata": {},
   "outputs": [],
   "source": [
    "# With the sea-states in the dataset linked to what is available in the WECSim simulation db\n",
    "# We can calculate the FFTs to obtian the reconstruction coefficients for both the wind and \n",
    "# swell waves\n",
    "\n",
    "# if inMemory:True, calculate_fft_matrix() will return coefficients as a dict\n",
    "\n",
    "swell_matrix = wc.calculate_fft_matrix(wecSim,swell[:,0],swell[:,1],inMemory=True)\n",
    "wind_matrix = wc.calculate_fft_matrix(wecSim,wind[:,0],wind[:,1],inMemory=True)\n"
   ]
  },
  {
   "cell_type": "code",
   "execution_count": 8,
   "metadata": {},
   "outputs": [],
   "source": [
    "# if we are looking to simulate multiple WECs, there is a convinience function in place to\n",
    "# setup the fft_matrix to do this.\n",
    "\n",
    "nWECs = 4\n",
    "\n",
    "swell_matrix = wc.multiple_realizations(nWECs,swell_matrix)\n",
    "wind_matrix = wc.multiple_realizations(nWECs,wind_matrix)\n"
   ]
  },
  {
   "cell_type": "code",
   "execution_count": 9,
   "metadata": {},
   "outputs": [
    {
     "name": "stderr",
     "output_type": "stream",
     "text": [
      "100%|██████████| 99/99 [00:11<00:00,  8.33it/s]\n",
      "100%|██████████| 99/99 [00:13<00:00,  7.09it/s]\n"
     ]
    }
   ],
   "source": [
    "# With the coefficients and frequencies we can not reconstruct the powerseries for a number of \n",
    "# WECs and output frequencies\n",
    "\n",
    "freq = '60S'\n",
    "\n",
    "swell_result, time = wc.construct_powerseries(timestamps,freq,swell[:,0],swell[:,1],\n",
    "                         fft_matrix=swell_matrix,inMemory=True)\n",
    "wind_result, time = wc.construct_powerseries(timestamps,freq,wind[:,0],wind[:,1],\n",
    "                         fft_matrix=wind_matrix,inMemory=True)"
   ]
  },
  {
   "cell_type": "code",
   "execution_count": 10,
   "metadata": {},
   "outputs": [],
   "source": [
    "# to Naively combine power output from both wind and swell wave seas we simply sum the power\n",
    "# generated from each individual sea\n",
    "\n",
    "from numpy import sum, dstack\n",
    "\n",
    "combination = dstack([swell_result,wind_result])\n",
    "sumResults = sum(combination,axis=-1)"
   ]
  },
  {
   "cell_type": "code",
   "execution_count": 11,
   "metadata": {},
   "outputs": [
    {
     "data": {
      "application/vnd.jupyter.widget-view+json": {
       "model_id": "7c5a607cc9864ed8ba36332d08495692",
       "version_major": 2,
       "version_minor": 0
      },
      "text/plain": [
       "Canvas(toolbar=Toolbar(toolitems=[('Home', 'Reset original view', 'home', 'home'), ('Back', 'Back to previous …"
      ]
     },
     "metadata": {},
     "output_type": "display_data"
    },
    {
     "data": {
      "text/plain": [
       "[<matplotlib.lines.Line2D at 0x7fba95cdaeb8>]"
      ]
     },
     "execution_count": 11,
     "metadata": {},
     "output_type": "execute_result"
    }
   ],
   "source": [
    "# Plots of the results can be generated to view the wind, swell and combine power outputs along\n",
    "# with the means between any number of WECs\n",
    "\n",
    "%matplotlib widget\n",
    "\n",
    "import matplotlib.pyplot as plt\n",
    "from numpy import mean\n",
    "\n",
    "for i in range(swell_result.shape[-1]):\n",
    "    plt.plot(time,swell_result[:,i])\n",
    "    \n",
    "for i in range(wind_result.shape[-1]):\n",
    "    plt.plot(time,wind_result[:,i])\n",
    "\n",
    "for i in range(sumResults.shape[-1]):\n",
    "    plt.plot(time,sumResults[:,i])\n",
    "    \n",
    "plt.plot(time,mean(sumResults,axis=1),color='k')\n"
   ]
  }
 ],
 "metadata": {
  "kernelspec": {
   "display_name": "Python 3",
   "language": "python",
   "name": "python3"
  },
  "language_info": {
   "codemirror_mode": {
    "name": "ipython",
    "version": 3
   },
   "file_extension": ".py",
   "mimetype": "text/x-python",
   "name": "python",
   "nbconvert_exporter": "python",
   "pygments_lexer": "ipython3",
   "version": "3.6.9"
  }
 },
 "nbformat": 4,
 "nbformat_minor": 4
}
