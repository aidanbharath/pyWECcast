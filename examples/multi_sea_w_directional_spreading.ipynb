{
 "cells": [
  {
   "cell_type": "markdown",
   "metadata": {},
   "source": [
    "# pyWECcast - v0.2.2\n",
    "## WEC Powerseries Generator\n",
    "\n",
    "This version release represents a refactoring to reduce dependence on specific file configurations for powerseries generation.\n",
    "\n",
    "This is also the first implementation of numba accelerated functions with parallel functionality included\n",
    "\n",
    "The example shows what may be a basic example of combining multiple sea-states\n"
   ]
  },
  {
   "cell_type": "code",
   "execution_count": 1,
   "metadata": {},
   "outputs": [],
   "source": [
    "# General import directly from the local pyWECcast directory\n",
    "\n",
    "import sys\n",
    "sys.path.insert(1, '../')\n",
    "\n",
    "import src as wc"
   ]
  },
  {
   "cell_type": "code",
   "execution_count": 2,
   "metadata": {},
   "outputs": [],
   "source": [
    "baseDir = f'/mnt/c/Users/abharath/Documents/Projects/Grid_Value'\n",
    "dataDir = f'{baseDir}/data'\n",
    "buoyDB = f'{dataDir}/buoy_downloads.h5'\n",
    "resultDB = f'{dataDir}/testing_buoy_powerseries.h5'"
   ]
  },
  {
   "cell_type": "code",
   "execution_count": 3,
   "metadata": {},
   "outputs": [
    {
     "name": "stdout",
     "output_type": "stream",
     "text": [
      "[3.4 3.  3.2 ... 2.  1.6 1.7] [11.4 10.8 11.4 ... 10.8 10.8 11.4] [b'WSW' b'SW' b'WSW' ... b'NW' b'WNW' b'NW'] [0.6 0.4 0.4 ... 0.3 0.3 0.3] [4.3 3.4 3.6 ... 3.6 3.7 4. ] [b'S' b'S' b'SSW' ... b'WNW' b'NW' b'NW'] [b'2020-01-29 00:00:00' b'2020-01-29 01:00:00' b'2020-01-29 02:00:00' ...\n",
      " b'2020-03-13 19:00:00' b'2020-03-13 20:00:00' b'2020-03-13 21:00:00']\n"
     ]
    }
   ],
   "source": [
    "# In this example we will combined both wind and swell waves to estimate the WEC power output \n",
    "# based on a fully realised sea\n",
    "\n",
    "buoyNum = '46041'\n",
    "\n",
    "time_index, SwH, SwP, SwD = wc.extract_NOAA_buoy(buoyDB,buoyNum,'SwH', 'SwP', 'SwD')\n",
    "time_index, WWH, WWP, WWD = wc.extract_NOAA_buoy(buoyDB,buoyNum,'WWH', 'WWP', 'WWD')\n",
    "\n",
    "print(SwH, SwP, SwD, WWH, WWP, WWD, time_index)"
   ]
  },
  {
   "cell_type": "code",
   "execution_count": 4,
   "metadata": {},
   "outputs": [
    {
     "name": "stderr",
     "output_type": "stream",
     "text": [
      "../src/ufuncs/utility_functions.py:77: UserWarning: Directional ndarray contains NaNs - default value inserted 0.0\n",
      "  warnings.warn(warn,UserWarning)\n"
     ]
    }
   ],
   "source": [
    "# for the particular NOAA buoy data files we have convenience functions in pyWECcast.ufuncs \n",
    "# to convert to a numerical format.\n",
    "\n",
    "timestamps = wc.ufuncs.binary_timestamp_convert(time_index)\n",
    "\n",
    "swell_D = wc.ufuncs.binary_direction_convert(SwD)\n",
    "wind_D = wc.ufuncs.binary_direction_convert(WWD)\n"
   ]
  },
  {
   "cell_type": "code",
   "execution_count": 5,
   "metadata": {},
   "outputs": [],
   "source": [
    "# we can manipulate the data to reduuce computation. Note array shapes must remain equal\n",
    "\n",
    "cut = 10\n",
    "timestamps, SwH, SwP, WWH, WWP = timestamps[:cut], SwH[:cut], SwP[:cut], WWH[:cut], WWP[:cut]"
   ]
  },
  {
   "cell_type": "code",
   "execution_count": 6,
   "metadata": {},
   "outputs": [],
   "source": [
    "# With a WECSim powerseries matrix, we can link the sea-state data to the WEC simulations \n",
    "# that are available. The closest match can be determined using a nearest neighbor method on \n",
    "# separate Hs, Tp and direction values or combinations of the groups\n",
    "\n",
    "# Here we create links for both the wind and swell waves\n",
    "\n",
    "wecSim = f'{dataDir}/WECSim_dataset_RM3_scale_0-1873.hdf5'\n",
    "\n",
    "swell, measured = wc.link_sea_states(wecSim,SwH,SwP)\n",
    "wind, measured = wc.link_sea_states(wecSim,WWH,WWP)\n"
   ]
  },
  {
   "cell_type": "code",
   "execution_count": 7,
   "metadata": {},
   "outputs": [],
   "source": [
    "# With the sea-states in the dataset linked to what is available in the WECSim simulation db\n",
    "# We can calculate the FFTs to obtian the reconstruction coefficients for both the wind and \n",
    "# swell waves\n",
    "\n",
    "# if inMemory:True, calculate_fft_matrix() will return coefficients as a dict\n",
    "\n",
    "swell_matrix = wc.calculate_fft_matrix(wecSim,swell[:,0],swell[:,1],inMemory=True)\n",
    "wind_matrix = wc.calculate_fft_matrix(wecSim,wind[:,0],wind[:,1],inMemory=True)\n"
   ]
  },
  {
   "cell_type": "code",
   "execution_count": 8,
   "metadata": {},
   "outputs": [],
   "source": [
    "# if we are looking to simulate multiple WECs, there is a convinience function in place to\n",
    "# setup the fft_matrix to do this.\n",
    "\n",
    "ndeg = 18\n",
    "\n",
    "swell_matrix = wc.multiple_realizations(ndeg,swell_matrix)\n",
    "wind_matrix = wc.multiple_realizations(ndeg,wind_matrix)\n"
   ]
  },
  {
   "cell_type": "code",
   "execution_count": 9,
   "metadata": {},
   "outputs": [],
   "source": [
    "# with the general fft coefficient matrices created we now look to scale the amplitudes based\n",
    "# on their incident direction to the WEC.\n",
    "\n",
    "swell_matrix = wc.wec_direction(swell_matrix,ang='deg')\n",
    "wind_matrix = wc.wec_direction(wind_matrix,ang='deg')\n",
    "        "
   ]
  },
  {
   "cell_type": "code",
   "execution_count": 10,
   "metadata": {},
   "outputs": [
    {
     "ename": "NameError",
     "evalue": "name 'np' is not defined",
     "output_type": "error",
     "traceback": [
      "\u001b[0;31m---------------------------------------------------------------------------\u001b[0m",
      "\u001b[0;31mNameError\u001b[0m                                 Traceback (most recent call last)",
      "\u001b[0;32m<ipython-input-10-8db4a36e4f46>\u001b[0m in \u001b[0;36m<module>\u001b[0;34m\u001b[0m\n\u001b[1;32m      1\u001b[0m \u001b[0;32mfrom\u001b[0m \u001b[0mscipy\u001b[0m\u001b[0;34m.\u001b[0m\u001b[0msignal\u001b[0m \u001b[0;32mimport\u001b[0m \u001b[0mgaussian\u001b[0m\u001b[0;34m\u001b[0m\u001b[0;34m\u001b[0m\u001b[0m\n\u001b[1;32m      2\u001b[0m \u001b[0;34m\u001b[0m\u001b[0m\n\u001b[0;32m----> 3\u001b[0;31m \u001b[0mswell_matrix\u001b[0m \u001b[0;34m=\u001b[0m \u001b[0mwc\u001b[0m\u001b[0;34m.\u001b[0m\u001b[0mwec_window\u001b[0m\u001b[0;34m(\u001b[0m\u001b[0mswell_matrix\u001b[0m\u001b[0;34m,\u001b[0m\u001b[0mgaussian\u001b[0m\u001b[0;34m,\u001b[0m\u001b[0mcenter\u001b[0m\u001b[0;34m=\u001b[0m\u001b[0;36m90\u001b[0m\u001b[0;34m,\u001b[0m\u001b[0mang\u001b[0m\u001b[0;34m=\u001b[0m\u001b[0;34m'deg'\u001b[0m\u001b[0;34m,\u001b[0m\u001b[0mstd\u001b[0m\u001b[0;34m=\u001b[0m\u001b[0;36m1\u001b[0m\u001b[0;34m)\u001b[0m\u001b[0;34m\u001b[0m\u001b[0;34m\u001b[0m\u001b[0m\n\u001b[0m",
      "\u001b[0;32m/mnt/c/Users/abharath/Documents/Projects/Grid_Value/pyWECcast/v0.2.2/pyWECcast/src/spreading/directional_spreading.py\u001b[0m in \u001b[0;36mwec_window\u001b[0;34m(fft_matrix, window_type, center, ang, **kwargs)\u001b[0m\n\u001b[1;32m    135\u001b[0m         \u001b[0md\u001b[0m \u001b[0;34m=\u001b[0m \u001b[0mfft_matrix\u001b[0m\u001b[0;34m[\u001b[0m\u001b[0;34m'direction'\u001b[0m\u001b[0;34m]\u001b[0m\u001b[0;34m\u001b[0m\u001b[0;34m\u001b[0m\u001b[0m\n\u001b[1;32m    136\u001b[0m         \u001b[0mwindow\u001b[0m \u001b[0;34m=\u001b[0m \u001b[0mwindow_type\u001b[0m\u001b[0;34m(\u001b[0m\u001b[0md\u001b[0m\u001b[0;34m.\u001b[0m\u001b[0mshape\u001b[0m\u001b[0;34m[\u001b[0m\u001b[0;34m-\u001b[0m\u001b[0;36m1\u001b[0m\u001b[0;34m]\u001b[0m\u001b[0;34m,\u001b[0m\u001b[0;34m**\u001b[0m\u001b[0mkwargs\u001b[0m\u001b[0;34m)\u001b[0m\u001b[0;34m\u001b[0m\u001b[0;34m\u001b[0m\u001b[0m\n\u001b[0;32m--> 137\u001b[0;31m         \u001b[0mshift_window\u001b[0m \u001b[0;34m=\u001b[0m \u001b[0m__shift_window__\u001b[0m\u001b[0;34m(\u001b[0m\u001b[0md\u001b[0m\u001b[0;34m,\u001b[0m\u001b[0mcenter\u001b[0m\u001b[0;34m,\u001b[0m\u001b[0mwindow\u001b[0m\u001b[0;34m)\u001b[0m\u001b[0;34m\u001b[0m\u001b[0;34m\u001b[0m\u001b[0m\n\u001b[0m\u001b[1;32m    138\u001b[0m         \u001b[0mprint\u001b[0m\u001b[0;34m(\u001b[0m\u001b[0mshift_window\u001b[0m\u001b[0;34m)\u001b[0m\u001b[0;34m\u001b[0m\u001b[0;34m\u001b[0m\u001b[0m\n\u001b[1;32m    139\u001b[0m         \u001b[0;31m#for key in fft_matrix:\u001b[0m\u001b[0;34m\u001b[0m\u001b[0;34m\u001b[0m\u001b[0;34m\u001b[0m\u001b[0m\n",
      "\u001b[0;32m/mnt/c/Users/abharath/Documents/Projects/Grid_Value/pyWECcast/v0.2.2/pyWECcast/src/spreading/directional_spreading.py\u001b[0m in \u001b[0;36m__shift_window__\u001b[0;34m(window, shift, output)\u001b[0m\n\u001b[1;32m     92\u001b[0m             \u001b[0mresult\u001b[0m\u001b[0;34m.\u001b[0m\u001b[0mappend\u001b[0m\u001b[0;34m(\u001b[0m\u001b[0moutput\u001b[0m\u001b[0;34m[\u001b[0m\u001b[0mint\u001b[0m\u001b[0;34m(\u001b[0m\u001b[0ml\u001b[0m\u001b[0;34m-\u001b[0m\u001b[0midx\u001b[0m\u001b[0;34m)\u001b[0m\u001b[0;34m]\u001b[0m\u001b[0;34m)\u001b[0m\u001b[0;34m\u001b[0m\u001b[0;34m\u001b[0m\u001b[0m\n\u001b[1;32m     93\u001b[0m \u001b[0;34m\u001b[0m\u001b[0m\n\u001b[0;32m---> 94\u001b[0;31m     \u001b[0;32mreturn\u001b[0m \u001b[0mnp\u001b[0m\u001b[0;34m.\u001b[0m\u001b[0marray\u001b[0m\u001b[0;34m(\u001b[0m\u001b[0mresult\u001b[0m\u001b[0;34m)\u001b[0m\u001b[0;34m\u001b[0m\u001b[0;34m\u001b[0m\u001b[0m\n\u001b[0m\u001b[1;32m     95\u001b[0m \u001b[0;34m\u001b[0m\u001b[0m\n\u001b[1;32m     96\u001b[0m \u001b[0;34m\u001b[0m\u001b[0m\n",
      "\u001b[0;31mNameError\u001b[0m: name 'np' is not defined"
     ]
    }
   ],
   "source": [
    "from scipy.signal import gaussian\n",
    "\n",
    "swell_matrix = wc.wec_window(swell_matrix,gaussian,center=90,ang='deg',std=1)"
   ]
  },
  {
   "cell_type": "code",
   "execution_count": 15,
   "metadata": {},
   "outputs": [
    {
     "ename": "TypeError",
     "evalue": "construct_powerseries() got an unexpected keyword argument 'nWECs'",
     "output_type": "error",
     "traceback": [
      "\u001b[0;31m---------------------------------------------------------------------------\u001b[0m",
      "\u001b[0;31mTypeError\u001b[0m                                 Traceback (most recent call last)",
      "\u001b[0;32m<ipython-input-15-480b833955dc>\u001b[0m in \u001b[0;36m<module>\u001b[0;34m\u001b[0m\n\u001b[1;32m      6\u001b[0m \u001b[0;34m\u001b[0m\u001b[0m\n\u001b[1;32m      7\u001b[0m swell_result, time = wc.construct_powerseries(timestamps,freq,swell[:,0],swell[:,1],\n\u001b[0;32m----> 8\u001b[0;31m                          nWECs=nWECs,fft_matrix=swell_matrix,inMemory=True)\n\u001b[0m\u001b[1;32m      9\u001b[0m wind_result, time = wc.construct_powerseries(timestamps,freq,wind[:,0],wind[:,1],\n\u001b[1;32m     10\u001b[0m                          nWECs=nWECs,fft_matrix=wind_matrix,inMemory=True)\n",
      "\u001b[0;31mTypeError\u001b[0m: construct_powerseries() got an unexpected keyword argument 'nWECs'"
     ]
    }
   ],
   "source": [
    "# With the coefficients and frequencies we can not reconstruct the powerseries for a number of \n",
    "# WECs and output frequencies\n",
    "\n",
    "freq = '60S'\n",
    "\n",
    "swell_result, time = wc.construct_powerseries(timestamps,freq,swell[:,0],swell[:,1],\n",
    "                         nWECs=nWECs,fft_matrix=swell_matrix,inMemory=True)\n",
    "wind_result, time = wc.construct_powerseries(timestamps,freq,wind[:,0],wind[:,1],\n",
    "                         nWECs=nWECs,fft_matrix=wind_matrix,inMemory=True)"
   ]
  },
  {
   "cell_type": "code",
   "execution_count": null,
   "metadata": {},
   "outputs": [],
   "source": [
    "# to Naively combine power output from both wind and swell wave seas we simply sum the power\n",
    "# generated from each individual sea\n",
    "\n",
    "from numpy import sum, dstack\n",
    "\n",
    "combination = dstack([swell_result,wind_result])\n",
    "sumResults = sum(combination,axis=-1)"
   ]
  },
  {
   "cell_type": "code",
   "execution_count": null,
   "metadata": {},
   "outputs": [],
   "source": [
    "# Plots of the results can be generated to view the wind, swell and combine power outputs along\n",
    "# with the means between any number of WECs\n",
    "\n",
    "%matplotlib widget\n",
    "\n",
    "import matplotlib.pyplot as plt\n",
    "from numpy import mean\n",
    "\n",
    "for i in range(swell_result.shape[-1]):\n",
    "    plt.plot(time,swell_result[:,i])\n",
    "    \n",
    "for i in range(wind_result.shape[-1]):\n",
    "    plt.plot(time,wind_result[:,i])\n",
    "\n",
    "for i in range(sumResults.shape[-1]):\n",
    "    plt.plot(time,sumResults[:,i])\n",
    "    \n",
    "plt.plot(time,mean(sumResults,axis=1),color='k')\n"
   ]
  },
  {
   "cell_type": "code",
   "execution_count": null,
   "metadata": {},
   "outputs": [],
   "source": [
    "from numpy import complex128\n",
    "\n",
    "type(1+1j) == complex128"
   ]
  },
  {
   "cell_type": "code",
   "execution_count": null,
   "metadata": {},
   "outputs": [],
   "source": [
    "type(1+1j)"
   ]
  },
  {
   "cell_type": "code",
   "execution_count": null,
   "metadata": {},
   "outputs": [],
   "source": []
  }
 ],
 "metadata": {
  "kernelspec": {
   "display_name": "Python 3",
   "language": "python",
   "name": "python3"
  },
  "language_info": {
   "codemirror_mode": {
    "name": "ipython",
    "version": 3
   },
   "file_extension": ".py",
   "mimetype": "text/x-python",
   "name": "python",
   "nbconvert_exporter": "python",
   "pygments_lexer": "ipython3",
   "version": "3.6.9"
  }
 },
 "nbformat": 4,
 "nbformat_minor": 4
}
