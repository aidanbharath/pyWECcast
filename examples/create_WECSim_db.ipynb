{
 "cells": [
  {
   "cell_type": "code",
   "execution_count": 3,
   "metadata": {},
   "outputs": [],
   "source": [
    "# General import directly from the local pyWECcast directory\n",
    "\n",
    "import sys\n",
    "sys.path.insert(1, '../')\n",
    "\n",
    "import src as wc"
   ]
  },
  {
   "cell_type": "code",
   "execution_count": 4,
   "metadata": {},
   "outputs": [
    {
     "name": "stdout",
     "output_type": "stream",
     "text": [
      "(180001,) 1.2383784315630928\n",
      "(180001,) 1.2193587263224546\n",
      "(180001,) 1.0190787793336369\n",
      "(180001,) 0.942806606868006\n",
      "(180001,) 0.8275357650510318\n",
      "(180001,) 0.6580031137792541\n",
      "(180001,) 0.5934393849152804\n",
      "(180001,) 0.5054548792261718\n",
      "(180001,) 0.01419250373347557\n",
      "(180001,) 0.4052619630767261\n",
      "(180001,) 0.34374460862275247\n",
      "(180001,) 0.09516125917420132\n",
      "(180001,) 0.26380176710052183\n",
      "(180001,) 0.526783176503081\n",
      "(180001,) 0.8098010604286501\n",
      "(180001,) 1.030534221622092\n",
      "(180001,) 1.2230443002988345\n",
      "(180001,) 11.334060236538951\n",
      "(180001,) 9.94738870938636\n",
      "(180001,) 9.224250012219946\n"
     ]
    }
   ],
   "source": [
    "WSDir = f'/mnt/c/Users/abharath/Documents/Projects/Grid_Value/data/matFiles/YH_matFiles'\n",
    "wc.wecsim_mats_to_hdf(WSDir,'testing')"
   ]
  },
  {
   "cell_type": "code",
   "execution_count": 5,
   "metadata": {},
   "outputs": [],
   "source": [
    "from h5py import File\n",
    "\n",
    "a = File(f'./WECSim_db/WECSim_dataset_testing.hdf5','r')"
   ]
  },
  {
   "cell_type": "code",
   "execution_count": 9,
   "metadata": {},
   "outputs": [
    {
     "data": {
      "text/plain": [
       "array([-0.62418997, -0.62427   , -0.6244353 , ..., -0.90688237,\n",
       "       -0.90627699, -0.90573862])"
      ]
     },
     "execution_count": 9,
     "metadata": {},
     "output_type": "execute_result"
    }
   ],
   "source": [
    "a[list(a.keys())[0]]['Hs_0.25']['Tp_13.34']['MechPower'][:]"
   ]
  },
  {
   "cell_type": "code",
   "execution_count": null,
   "metadata": {},
   "outputs": [],
   "source": []
  }
 ],
 "metadata": {
  "kernelspec": {
   "display_name": "Python 3",
   "language": "python",
   "name": "python3"
  },
  "language_info": {
   "codemirror_mode": {
    "name": "ipython",
    "version": 3
   },
   "file_extension": ".py",
   "mimetype": "text/x-python",
   "name": "python",
   "nbconvert_exporter": "python",
   "pygments_lexer": "ipython3",
   "version": "3.6.9"
  }
 },
 "nbformat": 4,
 "nbformat_minor": 4
}
