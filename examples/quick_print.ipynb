{
 "cells": [
  {
   "cell_type": "code",
   "execution_count": 3,
   "metadata": {},
   "outputs": [
    {
     "name": "stdout",
     "output_type": "stream",
     "text": [
      "<KeysViewHDF5 ['Seed_0.0']>\n",
      "<KeysViewHDF5 ['Hs_0.25', 'Hs_0.75']>\n",
      "<KeysViewHDF5 ['Tp_11.02', 'Tp_12.18', 'Tp_13.34', 'Tp_14.5', 'Tp_15.66', 'Tp_16.82', 'Tp_17.98', 'Tp_19.14', 'Tp_2.9', 'Tp_20.3', 'Tp_21.46', 'Tp_4.06', 'Tp_5.22', 'Tp_6.38', 'Tp_7.54', 'Tp_8.7', 'Tp_9.86']>\n",
      "<KeysViewHDF5 ['MechPower', 'Time']>\n"
     ]
    }
   ],
   "source": [
    "from h5py import File\n",
    "\n",
    "wecSimFile = './WECSim_db/WECSim_dataset_testing.hdf5'\n",
    "\n",
    "with File(wecSimFile,'r') as wec:\n",
    "    for i in wec.keys():\n",
    "        print(wec.keys())\n",
    "        for j in wec[i].keys():\n",
    "            print(wec[i].keys())\n",
    "            for k in wec[i][j].keys():\n",
    "                print(wec[i][j].keys())\n",
    "                for m in wec[i][j][k].keys():\n",
    "                    print(wec[i][j][k].keys())\n",
    "                    break\n",
    "                break\n",
    "            break\n",
    "        break"
   ]
  },
  {
   "cell_type": "code",
   "execution_count": null,
   "metadata": {},
   "outputs": [],
   "source": []
  }
 ],
 "metadata": {
  "kernelspec": {
   "display_name": "Python 3",
   "language": "python",
   "name": "python3"
  },
  "language_info": {
   "codemirror_mode": {
    "name": "ipython",
    "version": 3
   },
   "file_extension": ".py",
   "mimetype": "text/x-python",
   "name": "python",
   "nbconvert_exporter": "python",
   "pygments_lexer": "ipython3",
   "version": "3.6.9"
  }
 },
 "nbformat": 4,
 "nbformat_minor": 4
}
