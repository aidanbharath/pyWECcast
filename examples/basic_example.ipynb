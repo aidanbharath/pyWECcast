{
 "cells": [
  {
   "cell_type": "markdown",
   "metadata": {},
   "source": [
    "# pyWECcast - v0.2.2\n",
    "## WEC Powerseries Generator\n",
    "\n",
    "This version release represents a refactoring to reduce dependence on specific file configurations for powerseries generation.\n",
    "\n",
    "This is also the first implementation of numba accelerated functions with parallel functionality included\n",
    "\n",
    "This is an example on basic usage on the reconstruction flow and process\n"
   ]
  },
  {
   "cell_type": "code",
   "execution_count": 12,
   "metadata": {},
   "outputs": [],
   "source": [
    "# General import directly from the local pyWECcast directory\n",
    "\n",
    "import sys\n",
    "sys.path.insert(1, '../')\n",
    "\n",
    "import src as wc"
   ]
  },
  {
   "cell_type": "code",
   "execution_count": 13,
   "metadata": {},
   "outputs": [],
   "source": [
    "baseDir = f'/mnt/c/Users/abharath/Documents/Projects/Grid_Value'\n",
    "dataDir = f'{baseDir}/data'\n",
    "buoyDB = f'{dataDir}/buoy_downloads.h5'"
   ]
  },
  {
   "cell_type": "code",
   "execution_count": 14,
   "metadata": {},
   "outputs": [],
   "source": [
    "# First thing is first, we must compile the sea-state data we wish to use to base our WEC \n",
    "# power series on\n",
    "\n",
    "# For a basic reconstruction we need waveheight and period timeseries, but for a directional\n",
    "# reconstruction we will require directional data as well\n",
    "\n",
    "# This example is based on the swell wave data contained within the NOAA Buoy data\n",
    "\n",
    "from h5py import File\n",
    "\n",
    "with File(buoyDB,'r') as buoys:\n",
    "    buoy = buoys['46083']\n",
    "    SwH, SwP, SwD = buoy['SwH'][:], buoy['SwP'][:], buoy['SwD'][:]\n",
    "    time_index = buoy['time_index'][:]\n"
   ]
  },
  {
   "cell_type": "code",
   "execution_count": 15,
   "metadata": {},
   "outputs": [],
   "source": [
    "# we also include convenience loading functions for NOAA buoy data files (based on those \n",
    "# constructed using the pyWECcast download utility)\n",
    "\n",
    "Hs = 'SwH'\n",
    "Tp = 'SwP'\n",
    "Dir = 'SwD'\n",
    "\n",
    "time_index, SwH, SwP, SwD = wc.extract_NOAA_buoy(buoyDB,'46083',Hs, Tp, Dir)\n"
   ]
  },
  {
   "cell_type": "code",
   "execution_count": 16,
   "metadata": {},
   "outputs": [
    {
     "name": "stderr",
     "output_type": "stream",
     "text": [
      "../src/ufuncs/utility_functions.py:77: UserWarning: Directional ndarray contains NaNs - default value inserted 0.0\n",
      "  warnings.warn(warn,UserWarning)\n"
     ]
    }
   ],
   "source": [
    "# for the particular NOAA buoy data files we have convenience functions in wc.buoy to convert to\n",
    "# a numerical format.\n",
    "\n",
    "timestamps = wc.ufuncs.binary_timestamp_convert(time_index)\n",
    "\n",
    "sea_direction = wc.ufuncs.binary_direction_convert(SwD)\n"
   ]
  },
  {
   "cell_type": "code",
   "execution_count": 6,
   "metadata": {},
   "outputs": [],
   "source": [
    "# we can manipulate the data to reduce the amount of processing done in the reconstructions\n",
    "\n",
    "cut = 100\n",
    "timestamps, SwH, SwP = timestamps[:cut], SwH[:cut], SwP[:cut]"
   ]
  },
  {
   "cell_type": "code",
   "execution_count": 17,
   "metadata": {},
   "outputs": [
    {
     "name": "stderr",
     "output_type": "stream",
     "text": [
      "../src/power/powerseries.py:145: UserWarning: Dataset passed contains 27 instances of null values\n",
      "  warnings.warn(warn,UserWarning)\n"
     ]
    }
   ],
   "source": [
    "# With a WECSim powerseries matrix, we can link the sea-state data to the WEC simulations \n",
    "# that are available. The closest match can be determined using a nearest neighbor method on \n",
    "# separate Hs, Tp and direction values or combinations of the groups\n",
    "\n",
    "wecSim = f'./WECSim_db/WECSim_dataset_RM3.hdf5'\n",
    "\n",
    "wecSimSeas, seedWS, measured = wc.link_sea_states(wecSim,SwH,SwP,Seed=1)\n",
    "\n",
    "#print(wecSimSeas)\n"
   ]
  },
  {
   "cell_type": "code",
   "execution_count": 18,
   "metadata": {},
   "outputs": [],
   "source": [
    "# With the sea-states in the dataset linked to what is available in the WECSim simulation db\n",
    "# We can calculate the FFTs to obtian the reconstruction coefficients\n",
    "\n",
    "fftFname = f'{dataDir}/testing_fft_db.h5'\n",
    "varName = f'Power'\n",
    "\n",
    "# if inMemory:True, calculate_fft_matrix() will return coefficients as a dict\n",
    "fft_matrix = wc.calculate_fft_matrix(wecSim,wecSimSeas[:,0],wecSimSeas[:,1],seedWS,\n",
    "                                  fftFname=fftFname,WS_variable=varName,inMemory=True)"
   ]
  },
  {
   "cell_type": "code",
   "execution_count": 19,
   "metadata": {},
   "outputs": [],
   "source": [
    "# if we are looking to simulate multiple WECs, there is a convinience function in place to\n",
    "# setup the fft_matrix to do this.\n",
    "\n",
    "nWECs = 1\n",
    "\n",
    "fft_matrix = wc.multiple_realizations(nWECs,fft_matrix)\n"
   ]
  },
  {
   "cell_type": "code",
   "execution_count": null,
   "metadata": {},
   "outputs": [
    {
     "name": "stderr",
     "output_type": "stream",
     "text": [
      " 29%|██▉       | 314/1073 [00:47<01:58,  6.43it/s]"
     ]
    }
   ],
   "source": [
    "# With the coefficients and frequencies we can not reconstruct the powerseries\n",
    "# This call will make nWECs reconstructions with a random phase applied to each\n",
    "\n",
    "freq = '60S'\n",
    "resultDB = f'{dataDir}/testing_buoy_powerseries.h5'\n",
    "\n",
    "random_phase1, time = wc.construct_powerseries(timestamps,freq,wecSimSeas[:,0],wecSimSeas[:,1],\n",
    "                         seedWS,fft_matrix=fft_matrix,recFile=resultDB,inMemory=True,inPhase=False)\n",
    "\n",
    "random_phase2, time = wc.construct_powerseries(timestamps,freq,wecSimSeas[:,0],wecSimSeas[:,1],\n",
    "                         seedWS,fft_matrix=fft_matrix,recFile=resultDB,inMemory=True,inPhase=False)\n"
   ]
  },
  {
   "cell_type": "code",
   "execution_count": null,
   "metadata": {},
   "outputs": [],
   "source": [
    "# With the coefficients and frequencies we can not reconstruct the powerseries\n",
    "# This call will make nWECs reconstructions with a common randomly chosen phase applied to each\n",
    "\n",
    "freq = '60S'\n",
    "resultDB = f'{dataDir}/testing_buoy_powerseries.h5'\n",
    "\n",
    "common_phase, time = wc.construct_powerseries(timestamps,freq,wecSimSeas[:,0],wecSimSeas[:,1],\n",
    "                         seedWS,fft_matrix=fft_matrix,recFile=resultDB,inMemory=True,inPhase=True)\n"
   ]
  },
  {
   "cell_type": "code",
   "execution_count": null,
   "metadata": {},
   "outputs": [],
   "source": [
    "%matplotlib widget\n",
    "\n",
    "import numpy as np\n",
    "\n",
    "import matplotlib.pyplot as plt\n",
    "\n",
    "plotValues = random_phase1\n",
    "\n",
    "for i in range(plotValues.shape[-1]):\n",
    "    plt.plot(time,plotValues[:,i])\n",
    "    \n",
    "\n",
    "plotValues = random_phase2\n",
    "\n",
    "for i in range(plotValues.shape[-1]):\n",
    "    plt.plot(time,plotValues[:,i])\n",
    "    \n",
    "#plt.plot(time,np.mean(plotValues,axis=1),color='k')\n"
   ]
  },
  {
   "cell_type": "code",
   "execution_count": null,
   "metadata": {},
   "outputs": [],
   "source": []
  }
 ],
 "metadata": {
  "kernelspec": {
   "display_name": "Python 3",
   "language": "python",
   "name": "python3"
  },
  "language_info": {
   "codemirror_mode": {
    "name": "ipython",
    "version": 3
   },
   "file_extension": ".py",
   "mimetype": "text/x-python",
   "name": "python",
   "nbconvert_exporter": "python",
   "pygments_lexer": "ipython3",
   "version": "3.6.9"
  }
 },
 "nbformat": 4,
 "nbformat_minor": 4
}
