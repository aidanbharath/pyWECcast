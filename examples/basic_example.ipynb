{
 "cells": [
  {
   "cell_type": "markdown",
   "metadata": {},
   "source": [
    "# pyWECcast - v0.2.2\n",
    "## WEC Powerseries Generator\n",
    "\n",
    "This version release represents a refactoring to reduce dependence on specific file configurations for powerseries generation.\n",
    "\n",
    "This is also the first implementation of numba accelerated functions with parallel functionality included\n",
    "\n",
    "This is an example on basic usage on the reconstruction flow and process\n"
   ]
  },
  {
   "cell_type": "code",
   "execution_count": 1,
   "metadata": {},
   "outputs": [],
   "source": [
    "# General import directly from the local pyWECcast directory\n",
    "\n",
    "import sys\n",
    "sys.path.insert(1, '../')\n",
    "\n",
    "import src as wc"
   ]
  },
  {
   "cell_type": "code",
   "execution_count": 2,
   "metadata": {},
   "outputs": [],
   "source": [
    "baseDir = f'/mnt/c/Users/abharath/Documents/Projects/Grid_Value'\n",
    "dataDir = f'{baseDir}/data'\n",
    "buoyDB = f'{dataDir}/buoy_downloads.h5'"
   ]
  },
  {
   "cell_type": "code",
   "execution_count": 3,
   "metadata": {},
   "outputs": [],
   "source": [
    "# First thing is first, we must compile the sea-state data we wish to use to base our WEC \n",
    "# power series on\n",
    "\n",
    "# For a basic reconstruction we need waveheight and period timeseries, but for a directional\n",
    "# reconstruction we will require directional data as well\n",
    "\n",
    "# This example is based on the swell wave data contained within the NOAA Buoy data\n",
    "\n",
    "from h5py import File\n",
    "\n",
    "with File(buoyDB,'r') as buoys:\n",
    "    buoy = buoys['46041']\n",
    "    SwH, SwP, SwD = buoy['SwH'][:], buoy['SwP'][:], buoy['SwD'][:]\n",
    "    time_index = buoy['time_index'][:]\n"
   ]
  },
  {
   "cell_type": "code",
   "execution_count": 4,
   "metadata": {},
   "outputs": [],
   "source": [
    "# we also include convenience loading functions for NOAA buoy data files (based on those \n",
    "# constructed using the pyWECcast download utility)\n",
    "\n",
    "Hs = 'SwH'\n",
    "Tp = 'SwP'\n",
    "Dir = 'SwD'\n",
    "\n",
    "time_index, SwH, SwP, SwD = wc.extract_NOAA_buoy(buoyDB,'46041',Hs, Tp, Dir)\n"
   ]
  },
  {
   "cell_type": "code",
   "execution_count": 5,
   "metadata": {},
   "outputs": [
    {
     "name": "stderr",
     "output_type": "stream",
     "text": [
      "../src/ufuncs/utility_functions.py:77: UserWarning: Directional ndarray contains NaNs - default value inserted 0.0\n",
      "  warnings.warn(warn,UserWarning)\n"
     ]
    }
   ],
   "source": [
    "# for the particular NOAA buoy data files we have convenience functions in wc.buoy to convert to\n",
    "# a numerical format.\n",
    "\n",
    "timestamps = wc.ufuncs.binary_timestamp_convert(time_index)\n",
    "\n",
    "sea_direction = wc.ufuncs.binary_direction_convert(SwD)\n"
   ]
  },
  {
   "cell_type": "code",
   "execution_count": 6,
   "metadata": {},
   "outputs": [],
   "source": [
    "# we can manipulate the data to reduce the amount of processing done in the reconstructions\n",
    "\n",
    "cut = 5\n",
    "timestamps, SwH, SwP = timestamps[:cut], SwH[:cut], SwP[:cut]"
   ]
  },
  {
   "cell_type": "code",
   "execution_count": 7,
   "metadata": {},
   "outputs": [
    {
     "name": "stdout",
     "output_type": "stream",
     "text": [
      "['Hs - 0.15000009536743164 // Tp - 0.10000038146972656', 'Hs - 0.25 // Tp - 0.3000001907348633', 'Hs - 0.04999995231628418 // Tp - 0.10000038146972656', 'Hs - 0.04999995231628418 // Tp - 0.3000001907348633', 'Hs - 0.15000009536743164 // Tp - 0.10000038146972656']\n"
     ]
    }
   ],
   "source": [
    "# With a WECSim powerseries matrix, we can link the sea-state data to the WEC simulations \n",
    "# that are available. The closest match can be determined using a nearest neighbor method on \n",
    "# separate Hs, Tp and direction values or combinations of the groups\n",
    "\n",
    "wecSim = f'{dataDir}/WECSim_dataset_RM3_scale_0-1873.hdf5'\n",
    "\n",
    "wecSimSeas, measured = wc.link_sea_states(wecSim,SwH,SwP)\n",
    "\n",
    "# we can also compare WECSim sea states and those measure to analyze the variations between them\n",
    "\n",
    "print([f'Hs - {abs(j[0][0]-j[1][0])} // Tp - {abs(j[0][1]-j[1][1])}'\n",
    "            for i,j in enumerate(zip(wecSimSeas, measured))])"
   ]
  },
  {
   "cell_type": "code",
   "execution_count": 8,
   "metadata": {},
   "outputs": [],
   "source": [
    "# With the sea-states in the dataset linked to what is available in the WECSim simulation db\n",
    "# We can calculate the FFTs to obtian the reconstruction coefficients\n",
    "\n",
    "fftFname = f'{dataDir}/testing_fft_db.h5'\n",
    "\n",
    "# if inMemory:True, calculate_fft_matrix() will return coefficients as a dict\n",
    "fft_matrix = wc.calculate_fft_matrix(wecSim,wecSimSeas[:,0],wecSimSeas[:,1],\n",
    "                                  fftFname=fftFname,inMemory=True)"
   ]
  },
  {
   "cell_type": "code",
   "execution_count": 9,
   "metadata": {},
   "outputs": [],
   "source": [
    "# if we are looking to simulate multiple WECs, there is a convinience function in place to\n",
    "# setup the fft_matrix to do this.\n",
    "\n",
    "nWECs = 25\n",
    "\n",
    "fft_matrix = wc.multiple_realizations(nWECs,fft_matrix)\n"
   ]
  },
  {
   "cell_type": "code",
   "execution_count": 25,
   "metadata": {},
   "outputs": [
    {
     "name": "stderr",
     "output_type": "stream",
     "text": [
      "100%|██████████| 4/4 [00:12<00:00,  3.18s/it]\n"
     ]
    }
   ],
   "source": [
    "# With the coefficients and frequencies we can not reconstruct the powerseries\n",
    "# This call will make nWECs reconstructions with a random phase applied to each\n",
    "\n",
    "freq = '60S'\n",
    "resultDB = f'{dataDir}/testing_buoy_powerseries.h5'\n",
    "\n",
    "random_phase, time = wc.construct_powerseries(timestamps,freq,wecSimSeas[:,0],wecSimSeas[:,1],\n",
    "                         fft_matrix=fft_matrix,recFile=resultDB,inMemory=True,inPhase=False)\n"
   ]
  },
  {
   "cell_type": "code",
   "execution_count": null,
   "metadata": {},
   "outputs": [],
   "source": [
    "# With the coefficients and frequencies we can not reconstruct the powerseries\n",
    "# This call will make nWECs reconstructions with a common randomly chosen phase applied to each\n",
    "\n",
    "freq = '60S'\n",
    "resultDB = f'{dataDir}/testing_buoy_powerseries.h5'\n",
    "\n",
    "common_phase, time = wc.construct_powerseries(timestamps,freq,wecSimSeas[:,0],wecSimSeas[:,1],\n",
    "                         fft_matrix=fft_matrix,recFile=resultDB,inMemory=True,inPhase=True)\n"
   ]
  },
  {
   "cell_type": "code",
   "execution_count": 16,
   "metadata": {},
   "outputs": [
    {
     "name": "stderr",
     "output_type": "stream",
     "text": [
      "100%|██████████| 4/4 [00:07<00:00,  1.99s/it]\n"
     ]
    }
   ],
   "source": [
    "# With the coefficients and frequencies we can not reconstruct the powerseries and set the seeds for the phases \n",
    "# used so that the data is reconstructable\n",
    "\n",
    "from numpy import array, int64\n",
    "\n",
    "freq = '60S'\n",
    "resultDB = f'{dataDir}/testing_buoy_powerseries.h5'\n",
    "\n",
    "# Note a seed needs to be passed as an int64 for each WEC but can be any value\n",
    "Seeds = array([i for i in range(nWECs)],dtype=int64)\n",
    "\n",
    "set_phase, time = wc.construct_powerseries(timestamps,freq,wecSimSeas[:,0],wecSimSeas[:,1],\n",
    "                         fft_matrix=fft_matrix,recFile=resultDB,inMemory=True,Seeds=Seeds) \n"
   ]
  },
  {
   "cell_type": "code",
   "execution_count": 17,
   "metadata": {},
   "outputs": [
    {
     "data": {
      "application/vnd.jupyter.widget-view+json": {
       "model_id": "df136fede2e74bf29e252db596d84687",
       "version_major": 2,
       "version_minor": 0
      },
      "text/plain": [
       "Canvas(toolbar=Toolbar(toolitems=[('Home', 'Reset original view', 'home', 'home'), ('Back', 'Back to previous …"
      ]
     },
     "metadata": {},
     "output_type": "display_data"
    },
    {
     "data": {
      "text/plain": [
       "[<matplotlib.lines.Line2D at 0x7fec2d7b2630>]"
      ]
     },
     "execution_count": 17,
     "metadata": {},
     "output_type": "execute_result"
    }
   ],
   "source": [
    "%matplotlib widget\n",
    "\n",
    "import numpy as np\n",
    "\n",
    "import matplotlib.pyplot as plt\n",
    "\n",
    "plotValues = set_phase\n",
    "\n",
    "for i in range(results.shape[-1]):\n",
    "    plt.plot(time,plotValues[:,i])\n",
    "    \n",
    "plt.plot(time,np.mean(plotValues,axis=1),color='k')\n"
   ]
  },
  {
   "cell_type": "code",
   "execution_count": null,
   "metadata": {},
   "outputs": [],
   "source": []
  }
 ],
 "metadata": {
  "kernelspec": {
   "display_name": "Python 3",
   "language": "python",
   "name": "python3"
  },
  "language_info": {
   "codemirror_mode": {
    "name": "ipython",
    "version": 3
   },
   "file_extension": ".py",
   "mimetype": "text/x-python",
   "name": "python",
   "nbconvert_exporter": "python",
   "pygments_lexer": "ipython3",
   "version": "3.6.9"
  }
 },
 "nbformat": 4,
 "nbformat_minor": 4
}
