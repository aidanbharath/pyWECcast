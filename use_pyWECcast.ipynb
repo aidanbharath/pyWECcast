{
 "cells": [
  {
   "cell_type": "markdown",
   "metadata": {},
   "source": [
    "# pyWECcast\n",
    "## WEC Powerseries Generator"
   ]
  },
  {
   "cell_type": "code",
   "execution_count": 1,
   "metadata": {},
   "outputs": [],
   "source": [
    "import pyWECcast as wc"
   ]
  },
  {
   "cell_type": "code",
   "execution_count": 2,
   "metadata": {},
   "outputs": [],
   "source": [
    "buoyDB = f'buoy_downloads.h5'\n",
    "wecSim = f'../data/WECSim_dataset_RM3_scale_0-1873.hdf5'\n",
    "resultDB = 'stonewall_bank_buoy_powerseries_5S.h5'\n",
    "freq = '5S'"
   ]
  },
  {
   "cell_type": "code",
   "execution_count": null,
   "metadata": {},
   "outputs": [],
   "source": [
    "buoys = wc.db.Buoy(buoyDB)"
   ]
  },
  {
   "cell_type": "code",
   "execution_count": 3,
   "metadata": {},
   "outputs": [
    {
     "name": "stderr",
     "output_type": "stream",
     "text": [
      "100%|██████████| 1/1 [00:00<00:00,  2.87it/s]\n",
      "100%|██████████| 1/1 [00:00<00:00,  1.57it/s]\n",
      "393841it [22:17, 294.56it/s]\n"
     ]
    }
   ],
   "source": [
    "wc.power.buoy_powerseries(buoyDB,wecSim,buoys=['46050'],resultDB=resultDB,freq=freq)\n"
   ]
  },
  {
   "cell_type": "code",
   "execution_count": 4,
   "metadata": {},
   "outputs": [
    {
     "ename": "NameError",
     "evalue": "name 'buoyFile' is not defined",
     "output_type": "error",
     "traceback": [
      "\u001b[0;31m---------------------------------------------------------------------------\u001b[0m",
      "\u001b[0;31mNameError\u001b[0m                                 Traceback (most recent call last)",
      "\u001b[0;32m<ipython-input-4-a5a6fd174b65>\u001b[0m in \u001b[0;36m<module>\u001b[0;34m\u001b[0m\n\u001b[0;32m----> 1\u001b[0;31m \u001b[0mbuoys\u001b[0m \u001b[0;34m=\u001b[0m \u001b[0mwc\u001b[0m\u001b[0;34m.\u001b[0m\u001b[0mbuoys\u001b[0m\u001b[0;34m.\u001b[0m\u001b[0mdownload\u001b[0m\u001b[0;34m(\u001b[0m\u001b[0mbuoyFile\u001b[0m\u001b[0;34m)\u001b[0m\u001b[0;34m\u001b[0m\u001b[0;34m\u001b[0m\u001b[0m\n\u001b[0m",
      "\u001b[0;31mNameError\u001b[0m: name 'buoyFile' is not defined"
     ]
    }
   ],
   "source": [
    "buoys = wc.buoys.download(buoyFile)"
   ]
  },
  {
   "cell_type": "markdown",
   "metadata": {},
   "source": []
  },
  {
   "cell_type": "code",
   "execution_count": 3,
   "metadata": {},
   "outputs": [],
   "source": [
    "modelRegions = [f'wc_4m',f'ak_4m']\n",
    "locationFile = f'stonewall_bank_forecast.h5'\n",
    "resultDB = f'stonewall_powerseries_forecast_5S.h5'\n",
    "db = f'./ak-wc-4m.h5'\n",
    "wecSim = f'../data/WECSim_dataset_RM3_scale_0-1873.hdf5'\n",
    "times = [f'2020-03-13 00:00:00',f'2020-03-21 19:00:00']\n",
    "lon, lat = 360-124.515, 44.667"
   ]
  },
  {
   "cell_type": "code",
   "execution_count": null,
   "metadata": {},
   "outputs": [],
   "source": [
    "models = wc.models.download(modelRegions)"
   ]
  },
  {
   "cell_type": "markdown",
   "metadata": {},
   "source": []
  },
  {
   "cell_type": "code",
   "execution_count": 5,
   "metadata": {},
   "outputs": [],
   "source": [
    "ww = wc.WW3(db,lon,lat,model_id=modelRegions[0])\n",
    "ww.get_location()\n",
    "ww.get_times(times[0],times[1])\n",
    "ww.reduce_db(locationFile)"
   ]
  },
  {
   "cell_type": "markdown",
   "metadata": {},
   "source": []
  },
  {
   "cell_type": "code",
   "execution_count": 4,
   "metadata": {},
   "outputs": [
    {
     "name": "stderr",
     "output_type": "stream",
     "text": [
      "100%|██████████| 37/37 [00:00<00:00, 1155.95it/s]"
     ]
    },
    {
     "name": "stdout",
     "output_type": "stream",
     "text": [
      "\n",
      " ---------- Calculating FFTs --------\n"
     ]
    },
    {
     "name": "stderr",
     "output_type": "stream",
     "text": [
      "\n",
      "0it [00:00, ?it/s]"
     ]
    },
    {
     "name": "stdout",
     "output_type": "stream",
     "text": [
      "\n",
      "Calculating wc_4m/2020-03-13 00:00:00\n"
     ]
    },
    {
     "name": "stderr",
     "output_type": "stream",
     "text": [
      "64801it [03:03, 353.34it/s]\n",
      "49it [00:00, 169.98it/s]"
     ]
    },
    {
     "name": "stdout",
     "output_type": "stream",
     "text": [
      "\n",
      "Calculating wc_4m/2020-03-13 06:00:00\n"
     ]
    },
    {
     "name": "stderr",
     "output_type": "stream",
     "text": [
      "64801it [02:54, 371.02it/s]\n",
      "55it [00:00, 255.64it/s]"
     ]
    },
    {
     "name": "stdout",
     "output_type": "stream",
     "text": [
      "\n",
      "Calculating wc_4m/2020-03-13 12:00:00\n"
     ]
    },
    {
     "name": "stderr",
     "output_type": "stream",
     "text": [
      "64801it [02:59, 361.62it/s]\n",
      "59it [00:00, 287.93it/s]"
     ]
    },
    {
     "name": "stdout",
     "output_type": "stream",
     "text": [
      "\n",
      "Calculating wc_4m/2020-03-13 18:00:00\n"
     ]
    },
    {
     "name": "stderr",
     "output_type": "stream",
     "text": [
      "64801it [03:07, 344.69it/s]\n",
      "51it [00:00, 249.43it/s]"
     ]
    },
    {
     "name": "stdout",
     "output_type": "stream",
     "text": [
      "\n",
      "Calculating wc_4m/2020-03-14 00:00:00\n"
     ]
    },
    {
     "name": "stderr",
     "output_type": "stream",
     "text": [
      "64801it [03:23, 318.20it/s]\n",
      "47it [00:00, 232.46it/s]"
     ]
    },
    {
     "name": "stdout",
     "output_type": "stream",
     "text": [
      "\n",
      "Calculating wc_4m/2020-03-14 06:00:00\n"
     ]
    },
    {
     "name": "stderr",
     "output_type": "stream",
     "text": [
      "64801it [03:13, 335.51it/s]\n",
      "52it [00:00, 257.34it/s]"
     ]
    },
    {
     "name": "stdout",
     "output_type": "stream",
     "text": [
      "\n",
      "Calculating wc_4m/2020-03-14 12:00:00\n"
     ]
    },
    {
     "name": "stderr",
     "output_type": "stream",
     "text": [
      "64801it [03:19, 325.54it/s]\n",
      "54it [00:00, 267.11it/s]"
     ]
    },
    {
     "name": "stdout",
     "output_type": "stream",
     "text": [
      "\n",
      "Calculating wc_4m/2020-03-14 18:00:00\n"
     ]
    },
    {
     "name": "stderr",
     "output_type": "stream",
     "text": [
      "64801it [03:09, 341.81it/s]\n",
      "11it [00:00, 109.81it/s]"
     ]
    },
    {
     "name": "stdout",
     "output_type": "stream",
     "text": [
      "\n",
      "Calculating wc_4m/2020-03-15 00:00:00\n"
     ]
    },
    {
     "name": "stderr",
     "output_type": "stream",
     "text": [
      "64801it [03:07, 345.27it/s]\n",
      "32it [00:00, 312.32it/s]"
     ]
    },
    {
     "name": "stdout",
     "output_type": "stream",
     "text": [
      "\n",
      "Calculating wc_4m/2020-03-15 06:00:00\n"
     ]
    },
    {
     "name": "stderr",
     "output_type": "stream",
     "text": [
      "64801it [03:09, 341.10it/s]\n",
      "64it [00:00, 296.96it/s]"
     ]
    },
    {
     "name": "stdout",
     "output_type": "stream",
     "text": [
      "\n",
      "Calculating wc_4m/2020-03-15 12:00:00\n"
     ]
    },
    {
     "name": "stderr",
     "output_type": "stream",
     "text": [
      "64801it [03:10, 339.70it/s]\n",
      "37it [00:00, 356.84it/s]"
     ]
    },
    {
     "name": "stdout",
     "output_type": "stream",
     "text": [
      "\n",
      "Calculating wc_4m/2020-03-15 18:00:00\n"
     ]
    },
    {
     "name": "stderr",
     "output_type": "stream",
     "text": [
      "64801it [03:10, 341.02it/s]\n",
      "67it [00:00, 331.87it/s]"
     ]
    },
    {
     "name": "stdout",
     "output_type": "stream",
     "text": [
      "\n",
      "Calculating wc_4m/2020-03-16 00:00:00\n"
     ]
    },
    {
     "name": "stderr",
     "output_type": "stream",
     "text": [
      "64801it [03:08, 343.69it/s]\n",
      "69it [00:00, 342.39it/s]"
     ]
    },
    {
     "name": "stdout",
     "output_type": "stream",
     "text": [
      "\n",
      "Calculating wc_4m/2020-03-16 06:00:00\n"
     ]
    },
    {
     "name": "stderr",
     "output_type": "stream",
     "text": [
      "64801it [03:07, 345.67it/s]\n",
      "64it [00:00, 309.97it/s]"
     ]
    },
    {
     "name": "stdout",
     "output_type": "stream",
     "text": [
      "\n",
      "Calculating wc_4m/2020-03-16 12:00:00\n"
     ]
    },
    {
     "name": "stderr",
     "output_type": "stream",
     "text": [
      "64801it [03:09, 342.55it/s]\n",
      "67it [00:00, 335.87it/s]"
     ]
    },
    {
     "name": "stdout",
     "output_type": "stream",
     "text": [
      "\n",
      "Calculating wc_4m/2020-03-16 18:00:00\n"
     ]
    },
    {
     "name": "stderr",
     "output_type": "stream",
     "text": [
      "64801it [03:21, 322.28it/s]\n",
      "29it [00:00, 283.38it/s]"
     ]
    },
    {
     "name": "stdout",
     "output_type": "stream",
     "text": [
      "\n",
      "Calculating wc_4m/2020-03-17 00:00:00\n"
     ]
    },
    {
     "name": "stderr",
     "output_type": "stream",
     "text": [
      "64801it [03:26, 314.19it/s]\n",
      "55it [00:00, 270.76it/s]"
     ]
    },
    {
     "name": "stdout",
     "output_type": "stream",
     "text": [
      "\n",
      "Calculating wc_4m/2020-03-17 06:00:00\n"
     ]
    },
    {
     "name": "stderr",
     "output_type": "stream",
     "text": [
      "64801it [03:35, 301.14it/s]\n",
      "37it [00:00, 112.68it/s]"
     ]
    },
    {
     "name": "stdout",
     "output_type": "stream",
     "text": [
      "\n",
      "Calculating wc_4m/2020-03-17 12:00:00\n"
     ]
    },
    {
     "name": "stderr",
     "output_type": "stream",
     "text": [
      "64801it [03:46, 285.61it/s]\n",
      "49it [00:00, 247.83it/s]"
     ]
    },
    {
     "name": "stdout",
     "output_type": "stream",
     "text": [
      "\n",
      "Calculating wc_4m/2020-03-17 18:00:00\n"
     ]
    },
    {
     "name": "stderr",
     "output_type": "stream",
     "text": [
      "64801it [03:39, 295.38it/s]\n",
      "64it [00:00, 316.35it/s]"
     ]
    },
    {
     "name": "stdout",
     "output_type": "stream",
     "text": [
      "\n",
      "Calculating wc_4m/2020-03-18 00:00:00\n"
     ]
    },
    {
     "name": "stderr",
     "output_type": "stream",
     "text": [
      "64801it [03:48, 284.01it/s]\n",
      "28it [00:00, 275.91it/s]"
     ]
    },
    {
     "name": "stdout",
     "output_type": "stream",
     "text": [
      "\n",
      "Calculating wc_4m/2020-03-18 06:00:00\n"
     ]
    },
    {
     "name": "stderr",
     "output_type": "stream",
     "text": [
      "64801it [03:44, 288.30it/s]\n",
      "28it [00:00, 272.38it/s]"
     ]
    },
    {
     "name": "stdout",
     "output_type": "stream",
     "text": [
      "\n",
      "Calculating wc_4m/2020-03-18 12:00:00\n"
     ]
    },
    {
     "name": "stderr",
     "output_type": "stream",
     "text": [
      "64801it [03:42, 291.51it/s]\n",
      "55it [00:00, 267.51it/s]"
     ]
    },
    {
     "name": "stdout",
     "output_type": "stream",
     "text": [
      "\n",
      "Calculating wc_4m/2020-03-18 18:00:00\n"
     ]
    },
    {
     "name": "stderr",
     "output_type": "stream",
     "text": [
      "64801it [03:44, 288.81it/s]\n",
      "24it [00:00, 237.21it/s]"
     ]
    },
    {
     "name": "stdout",
     "output_type": "stream",
     "text": [
      "\n",
      "Calculating wc_4m/2020-03-19 00:00:00\n"
     ]
    },
    {
     "name": "stderr",
     "output_type": "stream",
     "text": [
      "64801it [03:43, 290.57it/s]\n",
      "39it [00:00, 111.69it/s]"
     ]
    },
    {
     "name": "stdout",
     "output_type": "stream",
     "text": [
      "\n",
      "Calculating wc_4m/2020-03-19 06:00:00\n"
     ]
    },
    {
     "name": "stderr",
     "output_type": "stream",
     "text": [
      "64801it [03:34, 302.25it/s]\n",
      "27it [00:00, 266.89it/s]"
     ]
    },
    {
     "name": "stdout",
     "output_type": "stream",
     "text": [
      "\n",
      "Calculating wc_4m/2020-03-19 12:00:00\n"
     ]
    },
    {
     "name": "stderr",
     "output_type": "stream",
     "text": [
      "64801it [03:33, 302.86it/s]\n",
      "62it [00:00, 309.94it/s]"
     ]
    },
    {
     "name": "stdout",
     "output_type": "stream",
     "text": [
      "\n",
      "Calculating wc_4m/2020-03-19 18:00:00\n"
     ]
    },
    {
     "name": "stderr",
     "output_type": "stream",
     "text": [
      "64801it [03:38, 297.01it/s]\n",
      "34it [00:00, 330.15it/s]"
     ]
    },
    {
     "name": "stdout",
     "output_type": "stream",
     "text": [
      "\n",
      "Calculating wc_4m/2020-03-20 00:00:00\n"
     ]
    },
    {
     "name": "stderr",
     "output_type": "stream",
     "text": [
      "64801it [03:31, 305.74it/s]\n",
      "51it [00:00, 262.80it/s]"
     ]
    },
    {
     "name": "stdout",
     "output_type": "stream",
     "text": [
      "\n",
      "Calculating wc_4m/2020-03-20 06:00:00\n"
     ]
    },
    {
     "name": "stderr",
     "output_type": "stream",
     "text": [
      "64801it [03:39, 295.72it/s]\n",
      "56it [00:00, 273.49it/s]"
     ]
    },
    {
     "name": "stdout",
     "output_type": "stream",
     "text": [
      "\n",
      "Calculating wc_4m/2020-03-20 12:00:00\n"
     ]
    },
    {
     "name": "stderr",
     "output_type": "stream",
     "text": [
      "64801it [03:40, 293.43it/s]\n",
      "51it [00:00, 247.77it/s]"
     ]
    },
    {
     "name": "stdout",
     "output_type": "stream",
     "text": [
      "\n",
      "Calculating wc_4m/2020-03-20 18:00:00\n"
     ]
    },
    {
     "name": "stderr",
     "output_type": "stream",
     "text": [
      "64801it [03:37, 297.62it/s]\n"
     ]
    }
   ],
   "source": [
    "import os\n",
    "if os.path.isfile(f'./{resultDB}'):\n",
    "    os.remove(f'./{resultDB}')\n",
    "wc.power.forecast_powerseries(locationFile,wecSim,resultDB=resultDB,freq=freq)"
   ]
  },
  {
   "cell_type": "code",
   "execution_count": 7,
   "metadata": {},
   "outputs": [],
   "source": [
    "from h5py import File\n",
    "import pandas as pd\n",
    "import dask.dataframe as dd\n",
    "f = resultDB\n",
    "a = File(f,'r')\n",
    "b = a['ak_4m']\n",
    "c = b[list(b.keys())[0]]\n",
    "t = [T.decode('UTF-8') for T in c['time'][:]]\n",
    "x = dd.from_pandas(pd.DataFrame(c['powerseries'][:],index = pd.to_datetime(t),columns=['powerseries']),npartitions=10)\n",
    "\n"
   ]
  },
  {
   "cell_type": "code",
   "execution_count": 1,
   "metadata": {},
   "outputs": [
    {
     "name": "stdout",
     "output_type": "stream",
     "text": [
      "Using matplotlib backend: TkAgg\n"
     ]
    },
    {
     "data": {
      "text/plain": [
       "<matplotlib.axes._subplots.AxesSubplot at 0x7faac44b5ef0>"
      ]
     },
     "execution_count": 1,
     "metadata": {},
     "output_type": "execute_result"
    }
   ],
   "source": [
    "%matplotlib \n",
    "import dask.dataframe as dd\n",
    "s = dd.read_hdf('test.h5','/ak_4m/2020-03-20 00:00:00/*',mode='r+',chunksize=10000)\n",
    "S = s['powerseries'].compute()\n",
    "S.dropna(inplace=True)\n",
    "S.sort_index()\n",
    "S.plot()\n"
   ]
  },
  {
   "cell_type": "code",
   "execution_count": null,
   "metadata": {},
   "outputs": [],
   "source": [
    "import matplotlib.pyplot as plt\n",
    "import h5py as h5\n",
    "a = h5.File('fairweather_power_forecast.h5','r')\n",
    "b = a['ak_4m/2020-03-20 00:00:00']\n",
    "plt.plot([T.decode('UTF-8') for T in b['time'][:]],b['powerseries'][:])\n",
    "plt.show()"
   ]
  },
  {
   "cell_type": "code",
   "execution_count": null,
   "metadata": {},
   "outputs": [],
   "source": []
  }
 ],
 "metadata": {
  "kernelspec": {
   "display_name": "Python 3",
   "language": "python",
   "name": "python3"
  },
  "language_info": {
   "codemirror_mode": {
    "name": "ipython",
    "version": 3
   },
   "file_extension": ".py",
   "mimetype": "text/x-python",
   "name": "python",
   "nbconvert_exporter": "python",
   "pygments_lexer": "ipython3",
   "version": "3.6.9"
  }
 },
 "nbformat": 4,
 "nbformat_minor": 4
}
