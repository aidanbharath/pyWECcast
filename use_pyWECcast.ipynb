{
 "cells": [
  {
   "cell_type": "markdown",
   "metadata": {},
   "source": [
    "# pyWECcast\n",
    "## WEC Powerseries Generator"
   ]
  },
  {
   "cell_type": "code",
   "execution_count": 1,
   "metadata": {},
   "outputs": [],
   "source": [
    "import pyWECcast as wc\n",
    "\n",
    "Dir = '/mnt/c/Users/abharath/Documents/Projects/Grid_Value'\n",
    "pyWEC = 'pyWECcast/v0.2.1/pyWECcast'"
   ]
  },
  {
   "cell_type": "code",
   "execution_count": 2,
   "metadata": {},
   "outputs": [],
   "source": [
    "freq = '30S'\n",
    "\n",
    "buoyFile = f'./noaa_Buoy_info.csv'\n",
    "buoyDB = f'{Dir}/{pyWEC}/buoy_downloads.h5'\n",
    "wecSim = f'{Dir}/data/WECSim_dataset_RM3_2m.hdf5'\n",
    "resultDB = f'{Dir}/{pyWEC}/kaneohe_bay_buoy_powerseries_{freq}.h5'\n",
    "buoyNum = ['51210']"
   ]
  },
  {
   "cell_type": "code",
   "execution_count": 3,
   "metadata": {},
   "outputs": [],
   "source": [
    "buoys = wc.db.Buoy(buoyDB)"
   ]
  },
  {
   "cell_type": "code",
   "execution_count": 12,
   "metadata": {},
   "outputs": [
    {
     "name": "stdout",
     "output_type": "stream",
     "text": [
      "<KeysViewHDF5 ['MechPower', 'Time']>\n"
     ]
    }
   ],
   "source": [
    "from h5py import File\n",
    "\n",
    "with File(wecSim,'r') as db:\n",
    "    print(db['Seed_1.0/Hs_0.25/Tp_11.5'].keys())"
   ]
  },
  {
   "cell_type": "code",
   "execution_count": 3,
   "metadata": {},
   "outputs": [
    {
     "name": "stderr",
     "output_type": "stream",
     "text": [
      "100%|██████████| 1/1 [00:01<00:00,  1.01s/it]\n",
      "100%|██████████| 1/1 [00:00<00:00,  1.42it/s]\n",
      "395077it [1:26:46, 75.87it/s]\n"
     ]
    }
   ],
   "source": [
    "wc.power.buoy_powerseries(buoyDB,wecSim,buoys=buoyNum,resultDB=resultDB,\n",
    "                          freq=freq,Tp='APD',WEC_variable='MechPower')\n"
   ]
  },
  {
   "cell_type": "code",
   "execution_count": 34,
   "metadata": {},
   "outputs": [
    {
     "name": "stderr",
     "output_type": "stream",
     "text": [
      "3it [00:04,  1.49s/it]"
     ]
    },
    {
     "name": "stdout",
     "output_type": "stream",
     "text": [
      "https://www.ndbc.noaa.gov/data/realtime2/46097.spec -- was not found\n"
     ]
    },
    {
     "name": "stderr",
     "output_type": "stream",
     "text": [
      "23it [00:38,  1.45s/it]"
     ]
    },
    {
     "name": "stdout",
     "output_type": "stream",
     "text": [
      "https://www.ndbc.noaa.gov/data/realtime2/46235.spec -- was not found\n"
     ]
    },
    {
     "name": "stderr",
     "output_type": "stream",
     "text": [
      "34it [01:00,  1.95s/it]"
     ]
    },
    {
     "name": "stdout",
     "output_type": "stream",
     "text": [
      "https://www.ndbc.noaa.gov/data/realtime2/46206.spec -- was not found\n"
     ]
    },
    {
     "name": "stderr",
     "output_type": "stream",
     "text": [
      "36it [01:03,  1.61s/it]"
     ]
    },
    {
     "name": "stdout",
     "output_type": "stream",
     "text": [
      "https://www.ndbc.noaa.gov/data/realtime2/46145.spec -- was not found\n"
     ]
    },
    {
     "name": "stderr",
     "output_type": "stream",
     "text": [
      "37it [01:04,  1.40s/it]"
     ]
    },
    {
     "name": "stdout",
     "output_type": "stream",
     "text": [
      "https://www.ndbc.noaa.gov/data/realtime2/46205.spec -- was not found\n"
     ]
    },
    {
     "name": "stderr",
     "output_type": "stream",
     "text": [
      "39it [01:06,  1.26s/it]"
     ]
    },
    {
     "name": "stdout",
     "output_type": "stream",
     "text": [
      "https://www.ndbc.noaa.gov/data/realtime2/46061.spec -- was not found\n"
     ]
    },
    {
     "name": "stderr",
     "output_type": "stream",
     "text": [
      "41it [01:08,  1.10s/it]"
     ]
    },
    {
     "name": "stdout",
     "output_type": "stream",
     "text": [
      "https://www.ndbc.noaa.gov/data/realtime2/46081.spec -- was not found\n"
     ]
    },
    {
     "name": "stderr",
     "output_type": "stream",
     "text": [
      "44it [01:12,  1.14s/it]"
     ]
    },
    {
     "name": "stdout",
     "output_type": "stream",
     "text": [
      "https://www.ndbc.noaa.gov/data/realtime2/46108.spec -- was not found\n"
     ]
    },
    {
     "name": "stderr",
     "output_type": "stream",
     "text": [
      "48it [01:17,  1.20s/it]"
     ]
    },
    {
     "name": "stdout",
     "output_type": "stream",
     "text": [
      "https://www.ndbc.noaa.gov/data/realtime2/46072.spec -- was not found\n"
     ]
    },
    {
     "name": "stderr",
     "output_type": "stream",
     "text": [
      "50it [01:24,  2.65s/it]"
     ]
    },
    {
     "name": "stdout",
     "output_type": "stream",
     "text": [
      "https://www.ndbc.noaa.gov/data/realtime2/46070.spec -- was not found\n"
     ]
    },
    {
     "name": "stderr",
     "output_type": "stream",
     "text": [
      "52it [01:27,  1.87s/it]"
     ]
    },
    {
     "name": "stdout",
     "output_type": "stream",
     "text": [
      "https://www.ndbc.noaa.gov/data/realtime2/46265.spec -- was not found\n"
     ]
    },
    {
     "name": "stderr",
     "output_type": "stream",
     "text": [
      "65it [02:01,  1.71s/it]"
     ]
    },
    {
     "name": "stdout",
     "output_type": "stream",
     "text": [
      "https://www.ndbc.noaa.gov/data/realtime2/42395.spec -- was not found\n"
     ]
    },
    {
     "name": "stderr",
     "output_type": "stream",
     "text": [
      "83it [02:53,  3.02s/it]"
     ]
    },
    {
     "name": "stdout",
     "output_type": "stream",
     "text": [
      "https://www.ndbc.noaa.gov/data/realtime2/44089.spec -- was not found\n"
     ]
    },
    {
     "name": "stderr",
     "output_type": "stream",
     "text": [
      "92it [03:06,  1.36s/it]"
     ]
    },
    {
     "name": "stdout",
     "output_type": "stream",
     "text": [
      "https://www.ndbc.noaa.gov/data/realtime2/44029.spec -- was not found\n"
     ]
    },
    {
     "name": "stderr",
     "output_type": "stream",
     "text": [
      "94it [03:09,  1.39s/it]"
     ]
    },
    {
     "name": "stdout",
     "output_type": "stream",
     "text": [
      "https://www.ndbc.noaa.gov/data/realtime2/44030.spec -- was not found\n"
     ]
    },
    {
     "name": "stderr",
     "output_type": "stream",
     "text": [
      "96it [03:12,  1.32s/it]"
     ]
    },
    {
     "name": "stdout",
     "output_type": "stream",
     "text": [
      "https://www.ndbc.noaa.gov/data/realtime2/44005.spec -- was not found\n"
     ]
    },
    {
     "name": "stderr",
     "output_type": "stream",
     "text": [
      "97it [03:14,  1.35s/it]"
     ]
    },
    {
     "name": "stdout",
     "output_type": "stream",
     "text": [
      "https://www.ndbc.noaa.gov/data/realtime2/44037.spec -- was not found\n"
     ]
    },
    {
     "name": "stderr",
     "output_type": "stream",
     "text": [
      "98it [03:15,  1.24s/it]"
     ]
    },
    {
     "name": "stdout",
     "output_type": "stream",
     "text": [
      "https://www.ndbc.noaa.gov/data/realtime2/44034.spec -- was not found\n"
     ]
    },
    {
     "name": "stderr",
     "output_type": "stream",
     "text": [
      "99it [03:15,  1.14s/it]"
     ]
    },
    {
     "name": "stdout",
     "output_type": "stream",
     "text": [
      "https://www.ndbc.noaa.gov/data/realtime2/44150.spec -- was not found\n"
     ]
    },
    {
     "name": "stderr",
     "output_type": "stream",
     "text": [
      "100it [03:16,  1.11s/it]"
     ]
    },
    {
     "name": "stdout",
     "output_type": "stream",
     "text": [
      "https://www.ndbc.noaa.gov/data/realtime2/44137.spec -- was not found\n"
     ]
    },
    {
     "name": "stderr",
     "output_type": "stream",
     "text": [
      "101it [03:17,  1.05s/it]"
     ]
    },
    {
     "name": "stdout",
     "output_type": "stream",
     "text": [
      "https://www.ndbc.noaa.gov/data/realtime2/44258.spec -- was not found\n"
     ]
    },
    {
     "name": "stderr",
     "output_type": "stream",
     "text": [
      "102it [03:18,  1.01s/it]"
     ]
    },
    {
     "name": "stdout",
     "output_type": "stream",
     "text": [
      "https://www.ndbc.noaa.gov/data/realtime2/44139.spec -- was not found\n"
     ]
    },
    {
     "name": "stderr",
     "output_type": "stream",
     "text": [
      "103it [03:20,  1.08s/it]"
     ]
    },
    {
     "name": "stdout",
     "output_type": "stream",
     "text": [
      "https://www.ndbc.noaa.gov/data/realtime2/45138.spec -- was not found\n"
     ]
    },
    {
     "name": "stderr",
     "output_type": "stream",
     "text": [
      "112it [03:35,  1.92s/it]\n"
     ]
    }
   ],
   "source": [
    "buoys = wc.buoys.download(buoyFile)"
   ]
  },
  {
   "cell_type": "markdown",
   "metadata": {},
   "source": []
  },
  {
   "cell_type": "code",
   "execution_count": 5,
   "metadata": {},
   "outputs": [],
   "source": [
    "modelRegions = [f'wc_10m']\n",
    "locationFile = f'{Dir}/data/wind_swell_model_forecast.h5'\n",
    "resultDB = f'{Dir}/data/stonewall_powerseries_forecast_5S.h5'\n",
    "db = f'{Dir}/data/wc_10m_splitWindSwell.h5'\n",
    "times = [f'2020-03-06 00:00:00',f'2020-03-10 19:00:00']\n",
    "lon, lat = 360-124.515, 44.667"
   ]
  },
  {
   "cell_type": "code",
   "execution_count": null,
   "metadata": {},
   "outputs": [],
   "source": [
    "processVars = ['shww','swell','mpww','swper','wvdir','swdir']\n",
    "model_hdf5 = f'{Dir}/data/wc_10m_splitWindSwell.h5'\n",
    "tempGRIBFile = f'wc_10m_gribs'\n",
    "models = wc.models.download(modelRegions,\n",
    "                            processVars=processVars,\n",
    "                            model_hdf5=model_hdf5,\n",
    "                            tempGRIBFile=tempGRIBFile)"
   ]
  },
  {
   "cell_type": "code",
   "execution_count": 2,
   "metadata": {},
   "outputs": [
    {
     "name": "stdout",
     "output_type": "stream",
     "text": [
      "<HDF5 dataset \"swper\": shape (141, 2, 151, 241), type \"<f4\">\n"
     ]
    }
   ],
   "source": [
    "import os\n",
    "import h5py as h5\n",
    "import pyWECcast as wc\n",
    "\n",
    "\n",
    "Dir = '/mnt/c/Users/abharath/Documents/Projects/Grid_Value'\n",
    "modelRegions = [f'wc_10m']\n",
    "processVars = ['shww','swell','mpww','swper','wvdir','swdir']\n",
    "processFiles = ['20200306','20200308']\n",
    "model_hdf5 = f'{Dir}/data/wc_10m_splitWindSwell.h5'\n",
    "tempGRIBFile = f'{Dir}/data/tempGRIB'\n",
    "\n",
    "\"\"\"\n",
    "if os.path.isfile(f'{model_hdf5}'):\n",
    "    os.remove(f'{model_hdf5}')\n",
    "\n",
    "wc.models.processH5(modelRegions[0],\n",
    "                    processFiles=processFiles,\n",
    "                    processVars=processVars,\n",
    "                    model_hdf5=model_hdf5,\n",
    "                    tempGRIBFile=tempGRIBFile\n",
    "                       )\n",
    "\"\"\"\n",
    "with h5.File(model_hdf5,'r') as f:\n",
    "    print(f['wc_10m']['2020-03-06 00:00:00']['swper'])"
   ]
  },
  {
   "cell_type": "code",
   "execution_count": 7,
   "metadata": {},
   "outputs": [],
   "source": [
    "import os\n",
    "\n",
    "\n",
    "if os.path.isfile(f'{locationFile}'):\n",
    "    os.remove(f'{locationFile}')\n",
    "\n",
    "ww = wc.WW3(db,lon,lat,model_id=modelRegions[0])\n",
    "ww.get_location()\n",
    "ww.get_times(times[0],times[1])\n",
    "ww.reduce_db(locationFile)"
   ]
  },
  {
   "cell_type": "markdown",
   "metadata": {},
   "source": []
  },
  {
   "cell_type": "code",
   "execution_count": 1,
   "metadata": {},
   "outputs": [
    {
     "name": "stdout",
     "output_type": "stream",
     "text": [
      "<KeysViewHDF5 ['wc_10m']>\n",
      "2020-03-06 00:00:00\n",
      "<KeysViewHDF5 ['latitude', 'level', 'longitude', 'mpww', 'shww', 'swdir', 'swell', 'swper', 'valid_time', 'wvdir']>\n",
      "<HDF5 dataset \"shww\": shape (141,), type \"<f4\"> [<HDF5 dataset \"mpww\": shape (141,), type \"<f4\">, <HDF5 dataset \"swper\": shape (141, 2), type \"<f4\">] [<HDF5 dataset \"wvdir\": shape (141,), type \"<f4\">, <HDF5 dataset \"swdir\": shape (141, 2), type \"<f4\">]\n"
     ]
    },
    {
     "ename": "ValueError",
     "evalue": "operands could not be broadcast together with shapes (10,) (141,) ",
     "output_type": "error",
     "traceback": [
      "\u001b[0;31m---------------------------------------------------------------------------\u001b[0m",
      "\u001b[0;31mValueError\u001b[0m                                Traceback (most recent call last)",
      "\u001b[0;32m<ipython-input-1-e55eba5d8edb>\u001b[0m in \u001b[0;36m<module>\u001b[0;34m\u001b[0m\n\u001b[1;32m     13\u001b[0m \u001b[0;31m#wc.power.forecast_powerseries(locationFile,wecSim,resultDB=resultDB,freq=freq)\u001b[0m\u001b[0;34m\u001b[0m\u001b[0;34m\u001b[0m\u001b[0;34m\u001b[0m\u001b[0m\n\u001b[1;32m     14\u001b[0m wc.power.multi_sea_powerseries(locationFile,wecSim,resultDB=resultDB,\n\u001b[0;32m---> 15\u001b[0;31m                                Hs=Hs,Tp=Tp,deg=deg,freq=freq)\n\u001b[0m",
      "\u001b[0;32m/mnt/c/Users/abharath/Documents/Projects/Grid_Value/pyWECcast/v0.2.1/pyWECcast/pyWECcast/power/powerseries.py\u001b[0m in \u001b[0;36mmulti_sea_powerseries\u001b[0;34m(db, wecSim, *args, **kwargs)\u001b[0m\n\u001b[1;32m    356\u001b[0m \u001b[0;32mdef\u001b[0m \u001b[0mmulti_sea_powerseries\u001b[0m\u001b[0;34m(\u001b[0m\u001b[0mdb\u001b[0m\u001b[0;34m,\u001b[0m \u001b[0mwecSim\u001b[0m\u001b[0;34m,\u001b[0m \u001b[0;34m*\u001b[0m\u001b[0margs\u001b[0m\u001b[0;34m,\u001b[0m \u001b[0;34m**\u001b[0m\u001b[0mkwargs\u001b[0m\u001b[0;34m)\u001b[0m\u001b[0;34m:\u001b[0m\u001b[0;34m\u001b[0m\u001b[0;34m\u001b[0m\u001b[0m\n\u001b[1;32m    357\u001b[0m     \u001b[0mf\u001b[0m \u001b[0;34m=\u001b[0m \u001b[0mforecast\u001b[0m\u001b[0;34m(\u001b[0m\u001b[0mdb\u001b[0m\u001b[0;34m,\u001b[0m \u001b[0mwecSim\u001b[0m\u001b[0;34m,\u001b[0m \u001b[0;34m*\u001b[0m\u001b[0margs\u001b[0m\u001b[0;34m,\u001b[0m \u001b[0;34m**\u001b[0m\u001b[0mkwargs\u001b[0m\u001b[0;34m)\u001b[0m\u001b[0;34m\u001b[0m\u001b[0;34m\u001b[0m\u001b[0m\n\u001b[0;32m--> 358\u001b[0;31m     \u001b[0mf\u001b[0m\u001b[0;34m.\u001b[0m\u001b[0mcalculate_seaStates\u001b[0m\u001b[0;34m(\u001b[0m\u001b[0;34m)\u001b[0m\u001b[0;34m\u001b[0m\u001b[0;34m\u001b[0m\u001b[0m\n\u001b[0m\u001b[1;32m    359\u001b[0m \u001b[0;34m\u001b[0m\u001b[0m\n\u001b[1;32m    360\u001b[0m \u001b[0;32mdef\u001b[0m \u001b[0mbuoy_powerseries\u001b[0m\u001b[0;34m(\u001b[0m\u001b[0mdb\u001b[0m\u001b[0;34m,\u001b[0m \u001b[0mwecSim\u001b[0m\u001b[0;34m,\u001b[0m \u001b[0;34m*\u001b[0m\u001b[0margs\u001b[0m\u001b[0;34m,\u001b[0m \u001b[0;34m**\u001b[0m\u001b[0mkwargs\u001b[0m\u001b[0;34m)\u001b[0m\u001b[0;34m:\u001b[0m\u001b[0;34m\u001b[0m\u001b[0;34m\u001b[0m\u001b[0m\n",
      "\u001b[0;32m/mnt/c/Users/abharath/Documents/Projects/Grid_Value/pyWECcast/v0.2.1/pyWECcast/pyWECcast/power/powerseries.py\u001b[0m in \u001b[0;36mcalculate_seaStates\u001b[0;34m(self, *args, **kwargs)\u001b[0m\n\u001b[1;32m    254\u001b[0m                         self.seaState[f'{model}/{t0}'] = [(Hs[abs(HsVal - j[0]).argmin()],\n\u001b[1;32m    255\u001b[0m                                                            Tp[abs(TpVal - j[1]).argmin()])\n\u001b[0;32m--> 256\u001b[0;31m                                                            for i, j in enumerate(zip(h0, te))]\n\u001b[0m\u001b[1;32m    257\u001b[0m \u001b[0;34m\u001b[0m\u001b[0m\n\u001b[1;32m    258\u001b[0m \u001b[0;34m\u001b[0m\u001b[0m\n",
      "\u001b[0;32m/mnt/c/Users/abharath/Documents/Projects/Grid_Value/pyWECcast/v0.2.1/pyWECcast/pyWECcast/power/powerseries.py\u001b[0m in \u001b[0;36m<listcomp>\u001b[0;34m(.0)\u001b[0m\n\u001b[1;32m    254\u001b[0m                         self.seaState[f'{model}/{t0}'] = [(Hs[abs(HsVal - j[0]).argmin()],\n\u001b[1;32m    255\u001b[0m                                                            Tp[abs(TpVal - j[1]).argmin()])\n\u001b[0;32m--> 256\u001b[0;31m                                                            for i, j in enumerate(zip(h0, te))]\n\u001b[0m\u001b[1;32m    257\u001b[0m \u001b[0;34m\u001b[0m\u001b[0m\n\u001b[1;32m    258\u001b[0m \u001b[0;34m\u001b[0m\u001b[0m\n",
      "\u001b[0;31mValueError\u001b[0m: operands could not be broadcast together with shapes (10,) (141,) "
     ]
    }
   ],
   "source": [
    "import os\n",
    "import pyWECcast as wc\n",
    "\n",
    "Dir = '/mnt/c/Users/abharath/Documents/Projects/Grid_Value'\n",
    "locationFile = f'{Dir}/data/wind_swell_model_forecast.h5'\n",
    "resultDB = f'{Dir}/data/wind_swell_powerseries_testing.h5'\n",
    "wecSim = f'{Dir}/data/WECSim_dataset_RM3_scale_0-1873.hdf5'\n",
    "freq = f'30S'\n",
    "Hs, Tp, deg = ['shww','swell'], ['mpww','swper'], ['wvdir','swdir']\n",
    "\n",
    "if os.path.isfile(f'{resultDB}'):\n",
    "    os.remove(f'{resultDB}')\n",
    "#wc.power.forecast_powerseries(locationFile,wecSim,resultDB=resultDB,freq=freq)\n",
    "wc.power.multi_sea_powerseries(locationFile,wecSim,resultDB=resultDB,\n",
    "                               Hs=Hs,Tp=Tp,deg=deg,freq=freq)"
   ]
  },
  {
   "cell_type": "code",
   "execution_count": null,
   "metadata": {},
   "outputs": [],
   "source": [
    "from h5py import File\n",
    "import pandas as pd\n",
    "import dask.dataframe as dd\n",
    "f = resultDB\n",
    "a = File(f,'r')\n",
    "b = a['ak_4m']\n",
    "c = b[list(b.keys())[0]]\n",
    "t = [T.decode('UTF-8') for T in c['time'][:]]\n",
    "x = dd.from_pandas(pd.DataFrame(c['powerseries'][:],index = pd.to_datetime(t),columns=['powerseries']),npartitions=10)\n",
    "\n"
   ]
  },
  {
   "cell_type": "code",
   "execution_count": null,
   "metadata": {},
   "outputs": [],
   "source": [
    "%matplotlib \n",
    "import dask.dataframe as dd\n",
    "s = dd.read_hdf('test.h5','/ak_4m/2020-03-20 00:00:00/*',mode='r+',chunksize=10000)\n",
    "S = s['powerseries'].compute()\n",
    "S.dropna(inplace=True)\n",
    "S.sort_index()\n",
    "S.plot()\n"
   ]
  },
  {
   "cell_type": "code",
   "execution_count": null,
   "metadata": {},
   "outputs": [],
   "source": [
    "import matplotlib.pyplot as plt\n",
    "import h5py as h5\n",
    "a = h5.File('fairweather_power_forecast.h5','r')\n",
    "b = a['ak_4m/2020-03-20 00:00:00']\n",
    "plt.plot([T.decode('UTF-8') for T in b['time'][:]],b['powerseries'][:])\n",
    "plt.show()"
   ]
  },
  {
   "cell_type": "code",
   "execution_count": null,
   "metadata": {},
   "outputs": [],
   "source": []
  }
 ],
 "metadata": {
  "kernelspec": {
   "display_name": "Python 3",
   "language": "python",
   "name": "python3"
  },
  "language_info": {
   "codemirror_mode": {
    "name": "ipython",
    "version": 3
   },
   "file_extension": ".py",
   "mimetype": "text/x-python",
   "name": "python",
   "nbconvert_exporter": "python",
   "pygments_lexer": "ipython3",
   "version": "3.6.9"
  }
 },
 "nbformat": 4,
 "nbformat_minor": 4
}
